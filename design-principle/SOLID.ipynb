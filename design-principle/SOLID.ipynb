{
 "cells": [
  {
   "cell_type": "markdown",
   "id": "4233f3b1-bdc1-4fc6-98de-9392ad987964",
   "metadata": {},
   "source": [
    "The **SOLID principles** are a set of guidelines for designing clean, maintainable, and scalable object-oriented software. Each principle addresses a common design challenge and promotes the creation of robust systems. Below are ideas and Python examples for implementing each of the SOLID principles."
   ]
  },
  {
   "cell_type": "markdown",
   "id": "3d57ad87-c44e-42f3-b6ed-fcae81d0c9e4",
   "metadata": {},
   "source": [
    "## Single Responsibility Principle (SRP)"
   ]
  },
  {
   "cell_type": "markdown",
   "id": "f8e77623-391d-4c45-9ffd-d601bcd648dd",
   "metadata": {},
   "source": [
    "* **Definition** : A class should have one and only one reason to change. It should have a single responsibility.\n",
    "\n",
    "* **Explanation**: The SRP ensures that a class is only focused on one specific task or responsibility. This makes the class easier to understand, test, and maintain. If a class has multiple responsibilities, a change in one part could unintentionally affect other parts.\n",
    "\n",
    "* **Example**:\n",
    "In a library system:\n",
    "\t* A class should either handle book data (title, author) or user operations (borrow, return) but not both."
   ]
  },
  {
   "cell_type": "code",
   "execution_count": 6,
   "id": "e95fcd47-abe0-4fc3-8199-6bc4897cbf3d",
   "metadata": {},
   "outputs": [
    {
     "name": "stdout",
     "output_type": "stream",
     "text": [
      "Title: 1984\n",
      "Author: George Orwell\n",
      "Content: Dystopian novel content...\n"
     ]
    }
   ],
   "source": [
    "# Split responsibilities for managing a book’s data and printing it.\n",
    "\n",
    "class Book:\n",
    "    def __init__(self, title, author, content):\n",
    "        self.title = title\n",
    "        self.author = author\n",
    "        self.content = content\n",
    "\n",
    "class BookPrinter:\n",
    "    def print_to_console(self, book):\n",
    "        print(f\"Title: {book.title}\\nAuthor: {book.author}\\nContent: {book.content}\")\n",
    "\n",
    "# Usage\n",
    "book = Book(\"1984\", \"George Orwell\", \"Dystopian novel content...\")\n",
    "printer = BookPrinter()\n",
    "printer.print_to_console(book)"
   ]
  },
  {
   "cell_type": "markdown",
   "id": "b140e50a-20d0-4b7a-ac07-368bb84c97c7",
   "metadata": {},
   "source": [
    "## Open/Closed Principle (OCP)"
   ]
  },
  {
   "cell_type": "markdown",
   "id": "db2856ea-0bb2-4fd4-9730-1c4865d5647e",
   "metadata": {},
   "source": [
    "* **Definition** : A class should be open for extension but closed for modification.\n",
    "\n",
    "* **Explanation**: This principle emphasizes that you should be able to extend a class’s functionality without altering its existing code. This prevents introducing bugs into tested code while enabling new features. It’s achieved through abstraction and polymorphism.\n",
    "\n",
    "* **Example**:\n",
    "   * Adding new shapes (e.g., Circle) in a geometry system should not require changing the base Shape class. Instead, you should extend the base class and implement specific behavior in the new subclass."
   ]
  },
  {
   "cell_type": "code",
   "execution_count": 12,
   "id": "4da9d0be-4c79-40c3-a8be-634502160784",
   "metadata": {},
   "outputs": [
    {
     "name": "stdout",
     "output_type": "stream",
     "text": [
      "Area: 6\n",
      "Area: 78.5\n"
     ]
    }
   ],
   "source": [
    "# Extend a shape class without modifying the existing implementation\n",
    "\n",
    "class Shape:\n",
    "    \n",
    "    def area(self):\n",
    "        raise NotImplementedError\n",
    "\n",
    "class Rectangle(Shape):\n",
    "    def __init__(self, width, height):\n",
    "        self.width = width\n",
    "        self.height = height\n",
    "\n",
    "    def area(self):\n",
    "        return self.width * self.height\n",
    "\n",
    "class Circle(Shape):\n",
    "    def __init__(self, radius):\n",
    "        self.radius = radius\n",
    "\n",
    "    def area(self):\n",
    "        return 3.14 * self.radius ** 2\n",
    "\n",
    "# Usage\n",
    "shapes = [Rectangle(2, 3), Circle(5)]\n",
    "for shape in shapes:\n",
    "    print(f\"Area: {shape.area()}\")"
   ]
  },
  {
   "cell_type": "markdown",
   "id": "29e26bfd-d530-4fd6-9047-858e8ba4451b",
   "metadata": {},
   "source": [
    "## Liskov Substitution Principle (LSP)"
   ]
  },
  {
   "cell_type": "markdown",
   "id": "a5902d1b-b90c-4ba5-b0b2-f79aaad9f7cd",
   "metadata": {},
   "source": [
    "* **Definition**: Objects of a superclass should be replaceable with objects of a subclass without altering the correctness of the program.\n",
    "\n",
    "* **Explanation**: Subtypes must be substitutable for their base types. A derived class must not break the functionality of the base class or expect a different behavior.\n",
    "\n",
    "* **Example**:\n",
    "\t* A Square class derived from a Rectangle class should not alter the meaning of width and height. If a method works with a Rectangle, it should also work with a Square.\n",
    "\n",
    "**Note** : Violating LSP often involves redefining or changing the behavior of inherited methods in a way that contradicts expectations of the base class."
   ]
  },
  {
   "cell_type": "code",
   "execution_count": 16,
   "id": "bf6431aa-3a1e-45bb-86cc-e32966319587",
   "metadata": {},
   "outputs": [
    {
     "name": "stdout",
     "output_type": "stream",
     "text": [
      "Area: 6\n",
      "Area: 16\n"
     ]
    }
   ],
   "source": [
    "# A square can substitute a rectangle as both share the same interface.\n",
    "\n",
    "class Rectangle:\n",
    "    def __init__(self, width, height):\n",
    "        self.width = width\n",
    "        self.height = height\n",
    "\n",
    "    def area(self):\n",
    "        return self.width * self.height\n",
    "\n",
    "class Square(Rectangle):\n",
    "    def __init__(self, side):\n",
    "        super().__init__(side, side)\n",
    "\n",
    "# Usage\n",
    "shapes = [Rectangle(2, 3), Square(4)]\n",
    "for shape in shapes:\n",
    "    print(f\"Area: {shape.area()}\")"
   ]
  },
  {
   "cell_type": "markdown",
   "id": "4495b64e-f07f-405c-b2b5-375cd3cf078c",
   "metadata": {},
   "source": [
    "## Interface Segregation Principle (ISP)"
   ]
  },
  {
   "cell_type": "markdown",
   "id": "7fd1cd87-ced9-4add-ad65-d53653abd50e",
   "metadata": {},
   "source": [
    "* **Definition**: A class should not be forced to implement interfaces it does not use.\n",
    "\n",
    "* **Explanation**: This principle advocates for creating smaller, more focused interfaces instead of one large, general-purpose interface. This prevents a class from having unused methods, which can lead to confusion and unmaintainable code.\n",
    "\n",
    "* **Example**:\n",
    "\t* A Printer should only have print() functionality, and a Scanner should only have scan() functionality. A MultiFunctionDevice can implement both interfaces, but a standalone printer shouldn’t be forced to implement scanning functionality it doesn’t need."
   ]
  },
  {
   "cell_type": "code",
   "execution_count": 20,
   "id": "2f89cc27-7d25-47be-83de-b40477691df6",
   "metadata": {},
   "outputs": [
    {
     "name": "stdout",
     "output_type": "stream",
     "text": [
      "Printing: Report.pdf\n",
      "Scanning: Photo.png\n"
     ]
    }
   ],
   "source": [
    "# Separate interfaces for printers and scanners.\n",
    "\n",
    "from abc import ABC, abstractmethod\n",
    "\n",
    "class Printer(ABC):\n",
    "    @abstractmethod\n",
    "    def print(self, document):\n",
    "        pass\n",
    "\n",
    "class Scanner(ABC):\n",
    "    @abstractmethod\n",
    "    def scan(self, document):\n",
    "        pass\n",
    "\n",
    "class MultiFunctionDevice(Printer, Scanner):\n",
    "    def print(self, document):\n",
    "        print(f\"Printing: {document}\")\n",
    "\n",
    "    def scan(self, document):\n",
    "        print(f\"Scanning: {document}\")\n",
    "\n",
    "# Usage\n",
    "device = MultiFunctionDevice()\n",
    "device.print(\"Report.pdf\")\n",
    "device.scan(\"Photo.png\")"
   ]
  },
  {
   "cell_type": "markdown",
   "id": "c488a99c-e4f2-4ea5-8611-e089f98625b5",
   "metadata": {},
   "source": [
    "## Dependency Inversion Principle (DIP)"
   ]
  },
  {
   "cell_type": "markdown",
   "id": "249d7d29-b2e3-4812-a6a4-3d66e549c81c",
   "metadata": {},
   "source": [
    "* **Definition**: High-level modules should not depend on low-level modules. Both should depend on abstractions. Abstractions should not depend on details; details should depend on abstractions.\n",
    "\n",
    "* **Explanation**: his principle decouples the higher-level logic (e.g., business rules) from the lower-level implementations (e.g., database or API interactions). This is achieved by introducing interfaces or abstract classes.\n",
    "\n",
    "* **Example**:\n",
    "\t* A payment processing system should depend on an abstraction like PaymentService. Specific implementations (like PayPalService or StripeService) should adhere to this abstraction. This allows swapping or adding payment providers without altering the high-level logic."
   ]
  },
  {
   "cell_type": "code",
   "execution_count": 36,
   "id": "71b965d1-330c-4ef4-adf1-fc7f98c6c42a",
   "metadata": {},
   "outputs": [
    {
     "name": "stdout",
     "output_type": "stream",
     "text": [
      "Payment completed by Paypal form amount : 100\n",
      "Payment completed by Stripe for amount : 101\n"
     ]
    }
   ],
   "source": [
    "# Decouple a service from its dependency using an abstraction.\n",
    "\n",
    "from abc import ABC, abstractmethod\n",
    "\n",
    "class PaymentService(ABC):\n",
    "    @abstractmethod\n",
    "    def pay(self, amount:int):\n",
    "        pass\n",
    "\n",
    "class PayPalService(PaymentService):\n",
    "    def pay(self, amount:int):\n",
    "        print(f\"Payment completed by Paypal form amount : {amount}\")\n",
    "\n",
    "class StripeService(PaymentService):\n",
    "    def pay(self, amount:int):\n",
    "        print(f\"Payment completed by Stripe for amount : {amount}\")\n",
    "\n",
    "class PaymentManager:\n",
    "    def __init__(self, service: PaymentService):\n",
    "        self.service = service\n",
    "\n",
    "    def pay(self, amount:int):\n",
    "        self.service.pay(amount)\n",
    "\n",
    "# Usage\n",
    "paypal_service = PayPalService()\n",
    "stripe_service = StripeService()\n",
    "\n",
    "manager = PaymentManager(paypal_service)\n",
    "manager.pay(100)\n",
    "\n",
    "manager = PaymentManager(stripe_service)\n",
    "manager.pay(101)"
   ]
  },
  {
   "cell_type": "markdown",
   "id": "c6e3aa07-c19a-417c-8335-a9f5e3b5ccd1",
   "metadata": {},
   "source": [
    "## Real-World Scenarios Combining SOLID Principles\n",
    "\n",
    "1.\t**E-commerce Application**:\n",
    "\t*\tUse **SRP** to separate order processing, inventory management, and payment processing.\n",
    "\t*\tUse **OCP** to add new payment methods like PayPal or Stripe.\n",
    "\t*\tUse **LSP** for a common interface for various product types.\n",
    "\t*\tUse **ISP** to create separate interfaces for different modules like product search, reviews, and recommendations.\n",
    "\t*\tUse **DIP** to decouple high-level services like a shopping cart from specific payment gateways.\n",
    "2.\t**Library Management System**:\n",
    "\t*\tUse **SRP** to handle book cataloging, user management, and loan processing separately.\n",
    "\t*\tUse **OCP** to extend support for digital books without modifying the existing physical book system.\n",
    "\t*\tUse **LSP** to ensure all book formats (physical, e-books, audiobooks) can be used interchangeably.\n",
    "\t*\tUse **ISP** for specific functionalities like searching, borrowing, or reviewing books.\n",
    "\t*\tUse **DIP** to abstract database operations from higher-level logic.\n",
    "\n"
   ]
  },
  {
   "cell_type": "markdown",
   "id": "a799a6a0-24b7-41cf-b648-9a17e80acb44",
   "metadata": {},
   "source": [
    "## Summary Table"
   ]
  },
  {
   "cell_type": "markdown",
   "id": "d18bbdcf-f9c7-4852-a7e6-8bd57a5400e5",
   "metadata": {},
   "source": [
    "\n",
    "\n",
    "| **Principle**        | **Focus**                                                                 | **Benefits**                                          |\n",
    "|-----------------------|--------------------------------------------------------------------------|------------------------------------------------------|\n",
    "| **Single Responsibility Principle (SRP)** | One responsibility per class.                                           | Simplifies testing and maintenance.                 |\n",
    "| **Open/Closed Principle (OCP)**           | Extend without modifying.                                               | Prevents breaking existing functionality.           |\n",
    "| **Liskov Substitution Principle (LSP)**   | Subtypes should be substitutable for their base types.                 | Ensures reliable inheritance and polymorphism.       |\n",
    "| **Interface Segregation Principle (ISP)** | Use smaller, specific interfaces instead of large general ones.         | Avoids unnecessary dependencies and code bloat.     |\n",
    "| **Dependency Inversion Principle (DIP)**  | High-level modules depend on abstractions, not concrete implementations. | Promotes loose coupling and flexibility.            |"
   ]
  },
  {
   "cell_type": "markdown",
   "id": "f7847e9a-3762-4fa9-bb42-a982c46c0a8b",
   "metadata": {},
   "source": [
    "These principles guide software design to be more modular, reusable, and maintainable, reducing the risk of tightly coupled or overly complex systems."
   ]
  },
  {
   "cell_type": "code",
   "execution_count": null,
   "id": "40d55add-f763-4632-9469-d2479f4eea66",
   "metadata": {},
   "outputs": [],
   "source": []
  }
 ],
 "metadata": {
  "kernelspec": {
   "display_name": "Python [conda env:base] *",
   "language": "python",
   "name": "conda-base-py"
  },
  "language_info": {
   "codemirror_mode": {
    "name": "ipython",
    "version": 3
   },
   "file_extension": ".py",
   "mimetype": "text/x-python",
   "name": "python",
   "nbconvert_exporter": "python",
   "pygments_lexer": "ipython3",
   "version": "3.10.16"
  }
 },
 "nbformat": 4,
 "nbformat_minor": 5
}
