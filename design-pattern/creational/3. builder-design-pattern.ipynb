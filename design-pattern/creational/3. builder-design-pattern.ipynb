{
 "cells": [
  {
   "cell_type": "markdown",
   "id": "bfd45d6d-0473-44c5-8fd8-cc4979a876ae",
   "metadata": {},
   "source": [
    "# Builder Design Pattern"
   ]
  },
  {
   "cell_type": "markdown",
   "id": "201c8566-561c-4bf7-a744-4397f07562f4",
   "metadata": {},
   "source": [
    "The **Builder Design Pattern** is a **creational design pattern** that separates the construction of a complex object from its repersentation, allowing you to construct an object step by step. It is especially useful when an object needs to be constructed in multiple ways or when it has many optional parameters or complex initialization logic. \n",
    "\n",
    "Here are some ideas and variations of the **Builder Pattern** that you can use for different scenarios:"
   ]
  },
  {
   "cell_type": "markdown",
   "id": "b0eac716-910a-4292-9a22-69946367e64e",
   "metadata": {},
   "source": [
    "## Basic Builder Pattern"
   ]
  },
  {
   "cell_type": "markdown",
   "id": "152f8d36-57e6-46aa-80bf-82e643246a32",
   "metadata": {},
   "source": [
    "* **Description** : A simple builder where *Builder* class is responsiblefor assemblinhg a complex object, providing methods to set individual components and returning the final object once all components are set. A variant of it called **Fluent Builder Pattern** the user to chain setter call fluently into on statement. This give better readability of code.\n",
    "* **Use Case** : When  constructing complext object with many optional parts. "
   ]
  },
  {
   "cell_type": "code",
   "execution_count": 5,
   "id": "faa7cc6d-1ad5-49b2-81fb-fb50795dbed7",
   "metadata": {},
   "outputs": [],
   "source": [
    "class House:\n",
    "    def __init__(self, windows, doors, roof):\n",
    "        self.windows = windows\n",
    "        self.doors = doors\n",
    "        self.roof = roof\n",
    "\n",
    "    def __str__(self):\n",
    "        return f\"House(windows={self.windows}, doors={self.doors}, roof={self.roof})\"\n",
    "\n",
    "class HouseBuilder:\n",
    "    def __init__(self):\n",
    "        self.windows = 0\n",
    "        self.doors = 0\n",
    "        self.roof = None\n",
    "\n",
    "    def build_windows(self, windows):\n",
    "        self.windows = windows\n",
    "        return self\n",
    "\n",
    "    def build_doors(self, doors):\n",
    "        self.doors = doors \n",
    "        return self\n",
    "\n",
    "    def build_roof(self, roof):\n",
    "        self.roof = roof\n",
    "        return self\n",
    "\n",
    "    def build(self):\n",
    "        return House(self.windows, self.doors, self.roof)"
   ]
  },
  {
   "cell_type": "code",
   "execution_count": 6,
   "id": "235f5718-1510-49a9-a593-85707041fd1d",
   "metadata": {},
   "outputs": [
    {
     "name": "stdout",
     "output_type": "stream",
     "text": [
      "House(windows=2, doors=1, roof=flat)\n"
     ]
    }
   ],
   "source": [
    "house = HouseBuilder().build_windows(2).build_doors(1).build_roof(\"flat\").build()\n",
    "print(house)"
   ]
  },
  {
   "cell_type": "markdown",
   "id": "416f8672-1749-46f1-8295-cb2660653c37",
   "metadata": {},
   "source": [
    "## Build with Validation"
   ]
  },
  {
   "cell_type": "markdown",
   "id": "28e41566-3dce-43ca-9457-59828ec91a0e",
   "metadata": {},
   "source": [
    "* **Description** : Add validation check in builder to ensure that object is valid before it is created. This can be useful to prevent inconsistent or invalid objects from being created.\n",
    "* **Use Case** : When an object must adhere to certain constraints, such as user profile that must have both a name and email."
   ]
  },
  {
   "cell_type": "code",
   "execution_count": 9,
   "id": "c861ebcb-9353-4104-8c0e-c7694f76445a",
   "metadata": {},
   "outputs": [],
   "source": [
    "class User:\n",
    "    def __init__(self, name, email, age):\n",
    "        self.name = name\n",
    "        self.email = email\n",
    "        self.age = age\n",
    "\n",
    "    def __str__(self):\n",
    "        return f\"User(name:{self.name}, email:{self.email}, age:{self.age})\""
   ]
  },
  {
   "cell_type": "code",
   "execution_count": 10,
   "id": "92130d29-03f0-47fa-9844-b8cde1f17c3e",
   "metadata": {},
   "outputs": [],
   "source": [
    "class UserBuilder:\n",
    "    def __init__(self):\n",
    "        self.name = None\n",
    "        self.email = None\n",
    "        self.age = 18\n",
    "\n",
    "    def set_name(self, name):\n",
    "        self.name = name\n",
    "        return self\n",
    "\n",
    "    def set_email(self, email):\n",
    "        self.email = email\n",
    "        return self\n",
    "\n",
    "    def set_age(self, age):\n",
    "        self.age = age\n",
    "        return self\n",
    "\n",
    "    def build(self):\n",
    "        if not self.name or not self.email:\n",
    "            raise ValueError(\"name and email are madatory fields\")\n",
    "        return User(self.name, self.email, self.age)"
   ]
  },
  {
   "cell_type": "code",
   "execution_count": 11,
   "id": "eec584e7-bc01-4168-9d43-8ee7495a19da",
   "metadata": {},
   "outputs": [],
   "source": [
    "user = UserBuilder().set_name(\"abc\").set_email(\"abc@gmail.com\").set_age(29).build()"
   ]
  },
  {
   "cell_type": "code",
   "execution_count": 12,
   "id": "933d1d1b-6fad-430d-825e-868ec3b6f3fc",
   "metadata": {},
   "outputs": [
    {
     "name": "stdout",
     "output_type": "stream",
     "text": [
      "User(name:abc, email:abc@gmail.com, age:29)\n"
     ]
    }
   ],
   "source": [
    "print(user)"
   ]
  },
  {
   "cell_type": "code",
   "execution_count": 13,
   "id": "6928f552-904b-4016-8f91-9761177bfd52",
   "metadata": {},
   "outputs": [
    {
     "ename": "ValueError",
     "evalue": "name and email are madatory fields",
     "output_type": "error",
     "traceback": [
      "\u001b[0;31m---------------------------------------------------------------------------\u001b[0m",
      "\u001b[0;31mValueError\u001b[0m                                Traceback (most recent call last)",
      "Cell \u001b[0;32mIn[13], line 1\u001b[0m\n\u001b[0;32m----> 1\u001b[0m \u001b[43mUserBuilder\u001b[49m\u001b[43m(\u001b[49m\u001b[43m)\u001b[49m\u001b[38;5;241;43m.\u001b[39;49m\u001b[43mset_name\u001b[49m\u001b[43m(\u001b[49m\u001b[38;5;124;43m\"\u001b[39;49m\u001b[38;5;124;43mabc\u001b[39;49m\u001b[38;5;124;43m\"\u001b[39;49m\u001b[43m)\u001b[49m\u001b[38;5;241;43m.\u001b[39;49m\u001b[43mbuild\u001b[49m\u001b[43m(\u001b[49m\u001b[43m)\u001b[49m\n",
      "Cell \u001b[0;32mIn[10], line 21\u001b[0m, in \u001b[0;36mUserBuilder.build\u001b[0;34m(self)\u001b[0m\n\u001b[1;32m     19\u001b[0m \u001b[38;5;28;01mdef\u001b[39;00m \u001b[38;5;21mbuild\u001b[39m(\u001b[38;5;28mself\u001b[39m):\n\u001b[1;32m     20\u001b[0m     \u001b[38;5;28;01mif\u001b[39;00m \u001b[38;5;129;01mnot\u001b[39;00m \u001b[38;5;28mself\u001b[39m\u001b[38;5;241m.\u001b[39mname \u001b[38;5;129;01mor\u001b[39;00m \u001b[38;5;129;01mnot\u001b[39;00m \u001b[38;5;28mself\u001b[39m\u001b[38;5;241m.\u001b[39memail:\n\u001b[0;32m---> 21\u001b[0m         \u001b[38;5;28;01mraise\u001b[39;00m \u001b[38;5;167;01mValueError\u001b[39;00m(\u001b[38;5;124m\"\u001b[39m\u001b[38;5;124mname and email are madatory fields\u001b[39m\u001b[38;5;124m\"\u001b[39m)\n\u001b[1;32m     22\u001b[0m     \u001b[38;5;28;01mreturn\u001b[39;00m User(\u001b[38;5;28mself\u001b[39m\u001b[38;5;241m.\u001b[39mname, \u001b[38;5;28mself\u001b[39m\u001b[38;5;241m.\u001b[39memail, \u001b[38;5;28mself\u001b[39m\u001b[38;5;241m.\u001b[39mage)\n",
      "\u001b[0;31mValueError\u001b[0m: name and email are madatory fields"
     ]
    }
   ],
   "source": [
    "UserBuilder().set_name(\"abc\").build()"
   ]
  },
  {
   "cell_type": "markdown",
   "id": "c561f89d-b4fd-494d-b51e-6ae5585d03fa",
   "metadata": {},
   "source": [
    "## Director class for Complext Builder"
   ]
  },
  {
   "cell_type": "markdown",
   "id": "e032521b-e0ea-402c-ba41-35e25e8bcfaa",
   "metadata": {},
   "source": [
    "* **Description** : Use a *Director* class to contruct a complext object using specific builder. The director encapsulates the construction process and calls methods on the builder to produce different variation of object.\n",
    "* **Use Case** : When there is a need to create objects in multiple steps but want to abstract that logic away from client code."
   ]
  },
  {
   "cell_type": "code",
   "execution_count": 17,
   "id": "d7bd75a7-e129-48e9-88e2-3ffb74b6ec52",
   "metadata": {},
   "outputs": [],
   "source": [
    "class Computer:\n",
    "    def __init__(self, cpu, ram, storage, gpu):\n",
    "        self.cpu = cpu\n",
    "        self.ram = ram\n",
    "        self.stotage = storage\n",
    "        self.gpu = gpu\n",
    "\n",
    "class ComputerBuilder:\n",
    "    def __init__(self):\n",
    "        self.cpu = \"i5\"\n",
    "        self.ram = \"8GB\"\n",
    "        self.storage = \"500GB SSD\"\n",
    "        self.gpu = \"Integrated\"\n",
    "\n",
    "    def set_cpu(self, cpu):\n",
    "        self.cpu = cpu\n",
    "        return self\n",
    "\n",
    "    def set_ram(self, ram):\n",
    "        self.ram = ram\n",
    "        return self\n",
    "\n",
    "    def set_storage(self, storage):\n",
    "        self.storage = storage\n",
    "        return self\n",
    "\n",
    "    def set_gpu(self, gpu):\n",
    "        self.gpu = gpu\n",
    "        return self\n",
    "\n",
    "    def build(self):\n",
    "        return Computer(self.cpu, self.ram, self.storage, self.gpu)\n",
    "\n",
    "class ComputerDirector:\n",
    "    def __init__(self, builder):\n",
    "        self.builder = builder\n",
    "\n",
    "    def build_gaming_laptop(self):\n",
    "        return ComputerBuilder().set_cpu(\"i9\").set_ram(\"32GB\").set_storage(\"1TB SSD\").set_gpu(\"RTX 3090\").build()\n",
    "\n",
    "    def build_workstation(self):\n",
    "        return ComputerBuilder().set_cpu(\"Xeon\").set_ram(\"64GB\").set_storage(\"2TB SSD\").set_gpu(\"Quardo\").build()"
   ]
  },
  {
   "cell_type": "code",
   "execution_count": 19,
   "id": "67d5f647-76ce-4655-b065-cfbf71bfdf68",
   "metadata": {},
   "outputs": [],
   "source": [
    "### Usage\n",
    "builder = ComputerBuilder()\n",
    "director = ComputerDirector(builder)\n",
    "\n",
    "gaming_pc = director.build_gaming_laptop()\n",
    "workstation = director.build_workstation()"
   ]
  },
  {
   "cell_type": "code",
   "execution_count": null,
   "id": "4dc773f8-b51a-4e59-a799-d43154c2f81d",
   "metadata": {},
   "outputs": [],
   "source": []
  }
 ],
 "metadata": {
  "kernelspec": {
   "display_name": "Python [conda env:base] *",
   "language": "python",
   "name": "conda-base-py"
  },
  "language_info": {
   "codemirror_mode": {
    "name": "ipython",
    "version": 3
   },
   "file_extension": ".py",
   "mimetype": "text/x-python",
   "name": "python",
   "nbconvert_exporter": "python",
   "pygments_lexer": "ipython3",
   "version": "3.10.16"
  }
 },
 "nbformat": 4,
 "nbformat_minor": 5
}
