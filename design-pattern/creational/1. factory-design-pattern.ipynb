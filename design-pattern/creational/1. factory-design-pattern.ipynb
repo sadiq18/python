{
 "cells": [
  {
   "cell_type": "markdown",
   "id": "8e629083-8699-490a-a6b6-76ec306e65eb",
   "metadata": {
    "panel-layout": {
     "height": 60.59375,
     "visible": true,
     "width": 100
    }
   },
   "source": [
    "# Factor Design Pattern"
   ]
  },
  {
   "cell_type": "markdown",
   "id": "2ae1ace0-4793-420d-b1df-477672c34407",
   "metadata": {
    "panel-layout": {
     "height": 68.28125,
     "visible": true,
     "width": 100
    }
   },
   "source": [
    "The **Factor Design Pattern** is a *creational design pattern* used to create object without specifying the exact class of object that will bre created. It encapsulate object creational logic into a separate factory class, allowing the client to interact with an abstract interface rather than dealing with specific class instantiations directly."
   ]
  },
  {
   "cell_type": "markdown",
   "id": "6a1f6927-34c9-45b2-a02f-02841f99d003",
   "metadata": {
    "panel-layout": {
     "height": 50.796875,
     "visible": true,
     "width": 100
    }
   },
   "source": [
    "## Simple Factory"
   ]
  },
  {
   "cell_type": "markdown",
   "id": "cc681a44-e478-42d6-8ae7-e6af4a30d31e",
   "metadata": {
    "panel-layout": {
     "height": 68.28125,
     "visible": true,
     "width": 100
    }
   },
   "source": [
    "* **Description** : This is a basic form of the factory pattern where a static method is a factory class is responsible for creating object based on input parameters.\n",
    "* **Use Case** : When you need to decide which class to instantiate based of input parameters. Eg. Creating different shape based like Circle, Rectange or Square etc. "
   ]
  },
  {
   "cell_type": "code",
   "execution_count": 5,
   "id": "bce5efc2-2234-4be0-91eb-78e65233fef0",
   "metadata": {},
   "outputs": [],
   "source": [
    "class SimpleFactroy:\n",
    "\n",
    "    @staticmethod\n",
    "    def create_shape(shape:str):\n",
    "        match shape:\n",
    "            case \"circle\":\n",
    "                return Circle()\n",
    "            case \"square\":\n",
    "                return Square()\n",
    "            case \"rectangle\":\n",
    "                return Rectangle()\n",
    "            case _:\n",
    "                raise ValueError(\"Unknown shape\")\n",
    "\n",
    "class Circle:\n",
    "    def __init__(self):\n",
    "        pass\n",
    "\n",
    "class Square:\n",
    "    def __init__(self):\n",
    "        pass\n",
    "\n",
    "class Rectangle:\n",
    "    def __init__(self):\n",
    "        pass"
   ]
  },
  {
   "cell_type": "code",
   "execution_count": 6,
   "id": "b50c3ba6-a927-4b56-9f9d-55337103177e",
   "metadata": {
    "panel-layout": {
     "height": 10,
     "visible": true,
     "width": 100
    }
   },
   "outputs": [
    {
     "data": {
      "text/plain": [
       "<__main__.Circle at 0x124383a90>"
      ]
     },
     "execution_count": 6,
     "metadata": {},
     "output_type": "execute_result"
    }
   ],
   "source": [
    "### Test\n",
    "\n",
    "SimpleFactroy.create_shape(\"circle\")"
   ]
  },
  {
   "cell_type": "markdown",
   "id": "86cab422-ad6f-4f52-867e-3b4ef932ed08",
   "metadata": {
    "panel-layout": {
     "height": 50.796875,
     "visible": true,
     "width": 100
    }
   },
   "source": [
    "## Factory Method"
   ]
  },
  {
   "cell_type": "markdown",
   "id": "1e012a7e-6672-4833-b0e1-abade7997e3f",
   "metadata": {
    "panel-layout": {
     "height": 68.28125,
     "visible": true,
     "width": 100
    }
   },
   "source": [
    "* **Descrption** : A method in a class overriden in subclasses to create objects. This approach allows subclasses to change the object creation logic with altering the client code\n",
    "* **Use Case** : Useful when different subclasses of a class require different type of objects to be initiated."
   ]
  },
  {
   "cell_type": "code",
   "execution_count": 9,
   "id": "204bfa72-03de-4dae-829b-c76b4a6da7cb",
   "metadata": {},
   "outputs": [],
   "source": [
    "class Product:\n",
    "    def create(self):\n",
    "        pass\n",
    "\n",
    "class ProductA(Product):\n",
    "    def create(self):\n",
    "        return \"Product A\"\n",
    "\n",
    "class ProductA(Product):\n",
    "    def create(self):\n",
    "        return \"Product B\"\n",
    "\n",
    "class Creator:\n",
    "    def create_product(self):\n",
    "        raise NotImplementError()\n",
    "\n",
    "class CreatorA(Creator):\n",
    "    def create_product(self):\n",
    "        return ProductA()\n",
    "\n",
    "class CreatorB(Creator):\n",
    "    def create_product(self):\n",
    "        return ProductB()"
   ]
  },
  {
   "cell_type": "markdown",
   "id": "cb9d0545-49fe-4be1-a359-1696e1fdb39b",
   "metadata": {
    "panel-layout": {
     "height": 50.796875,
     "visible": true,
     "width": 100
    }
   },
   "source": [
    "## Abstract Factory"
   ]
  },
  {
   "cell_type": "markdown",
   "id": "4a068b6d-72ba-4572-a48c-92dade634d1e",
   "metadata": {
    "panel-layout": {
     "height": 68.28125,
     "visible": true,
     "width": 100
    }
   },
   "source": [
    "* **Description** : A more advance version of the factory pattern. It provides an interface for creating families of related and dependent objects without specifying their concreate class.\n",
    "* **Use Case** : When a system should be independent of how its product are created, composed and repersented such as creating products in UI library that can adapt to different themes."
   ]
  },
  {
   "cell_type": "code",
   "execution_count": 12,
   "id": "521af104-3581-4ae9-bb43-ed6b50d866e6",
   "metadata": {},
   "outputs": [],
   "source": [
    "class GUIFactory:\n",
    "    def create_button(self):\n",
    "        raise NotImplementedError\n",
    "\n",
    "    def create_checkbox(self):\n",
    "        raise NotImplementedError\n",
    "\n",
    "class WinFactory(GUIFactory):\n",
    "    def create_button(self):\n",
    "        return \"Windows button\"\n",
    "\n",
    "    def create_button(self):\n",
    "        return \"Windows button\"\n",
    "\n",
    "class MacFactory(GUIFactory):\n",
    "    def create_button(self):\n",
    "        return \"Mac button\"\n",
    "\n",
    "    def create_button(self):\n",
    "        return \"Mac button\""
   ]
  },
  {
   "cell_type": "code",
   "execution_count": 13,
   "id": "eaa927c4-c682-415c-a7d3-60f1015ce0ac",
   "metadata": {},
   "outputs": [],
   "source": [
    "# Usage\n",
    "def get_factory(os_type):\n",
    "    if os_type == \"windows\":\n",
    "        return WinFactory()\n",
    "    elif os_type == \"mac\":\n",
    "        return MacFactory()"
   ]
  },
  {
   "cell_type": "code",
   "execution_count": 14,
   "id": "4dabe325-d83f-4540-8ba0-1e8a4012f072",
   "metadata": {
    "panel-layout": {
     "height": 51.140625,
     "visible": true,
     "width": 100
    }
   },
   "outputs": [
    {
     "data": {
      "text/plain": [
       "'Windows button'"
      ]
     },
     "execution_count": 14,
     "metadata": {},
     "output_type": "execute_result"
    }
   ],
   "source": [
    "factory = get_factory(\"windows\")\n",
    "factory.create_button()"
   ]
  },
  {
   "cell_type": "code",
   "execution_count": 15,
   "id": "741a507e-1b69-45b5-952b-43698edd7326",
   "metadata": {
    "panel-layout": {
     "height": 51.140625,
     "visible": true,
     "width": 100
    }
   },
   "outputs": [
    {
     "data": {
      "text/plain": [
       "'Mac button'"
      ]
     },
     "execution_count": 15,
     "metadata": {},
     "output_type": "execute_result"
    }
   ],
   "source": [
    "factory = get_factory(\"mac\")\n",
    "factory.create_button()"
   ]
  },
  {
   "cell_type": "markdown",
   "id": "0213032d-b744-4971-99e6-afaad94c4bc6",
   "metadata": {
    "panel-layout": {
     "height": 50.796875,
     "visible": true,
     "width": 100
    }
   },
   "source": [
    "## Other ways to use factory pattern"
   ]
  },
  {
   "cell_type": "markdown",
   "id": "3836ec08-c4fc-4887-9d0e-7b27a4847601",
   "metadata": {
    "panel-layout": {
     "height": 95.359375,
     "visible": true,
     "width": 100
    }
   },
   "source": [
    "### Factory with configuration or Dependency Injection\n",
    "\n",
    "* **Description** : Create a factory that reads configuration from external files to decide which concrete class to initiate. This make factory more flexible and decouple object creation from object itself.\n",
    "* **Use Case** : Usefule in environment where you may need to change the objects created at runtime without changing the source code."
   ]
  },
  {
   "cell_type": "code",
   "execution_count": 18,
   "id": "9f4bded4-2eda-4e95-a5e9-befa5c442710",
   "metadata": {},
   "outputs": [],
   "source": [
    "import json\n",
    "\n",
    "class ProductFactory:\n",
    "\n",
    "    @staticmethod\n",
    "    def create_product(config_file):\n",
    "        with open(config_file, 'r') as file:\n",
    "            config = json.load(file)\n",
    "            if config['type'] == 'A':\n",
    "                return ProductA()\n",
    "            elif config['type'] == 'B':\n",
    "                return ProductB()"
   ]
  },
  {
   "cell_type": "code",
   "execution_count": 19,
   "id": "2f3e5e31-8e21-4edc-8b79-1fb2e8cd8137",
   "metadata": {
    "panel-layout": {
     "height": 10,
     "visible": true,
     "width": 100
    }
   },
   "outputs": [
    {
     "data": {
      "text/plain": [
       "<__main__.ProductA at 0x1243c4c40>"
      ]
     },
     "execution_count": 19,
     "metadata": {},
     "output_type": "execute_result"
    }
   ],
   "source": [
    "ProductFactory.create_product(\"config.json\")"
   ]
  },
  {
   "cell_type": "markdown",
   "id": "07550833-7297-474b-aed3-a86c2284e4a9",
   "metadata": {
    "panel-layout": {
     "height": 95.359375,
     "visible": true,
     "width": 100
    }
   },
   "source": [
    "### Lazy Factory\n",
    "* **Description** : A factory pattern that delays the creation of object until it is actually needed.\n",
    "* **Use Case** : Where creating an object is expensive and you want to delay the initalisation until it is required. "
   ]
  },
  {
   "cell_type": "code",
   "execution_count": 21,
   "id": "18101c50-b4ee-4c90-be78-36693cf24ff0",
   "metadata": {},
   "outputs": [],
   "source": [
    "class LazyLoader:\n",
    "    def __init__(self):\n",
    "        self._expensive_object = None\n",
    "    \n",
    "    def get_expensive_object(self):\n",
    "        if not self._expensive_object: \n",
    "            self._expensive_object = ProductA()\n",
    "        return self._expensive_object"
   ]
  },
  {
   "cell_type": "markdown",
   "id": "caadb830-81a1-49ad-b0f1-5f81588bdc01",
   "metadata": {
    "panel-layout": {
     "height": 78.21875,
     "visible": true,
     "width": 100
    }
   },
   "source": [
    "### Singleton Factory\n",
    "* **Description** : A combination of factory pattern and singleton pattern. The factory itself ensure that only one instance should be created."
   ]
  },
  {
   "cell_type": "code",
   "execution_count": 23,
   "id": "4546ea2a-6310-40b3-ae7c-31bc9fbd0540",
   "metadata": {},
   "outputs": [],
   "source": [
    "class SingleFactory:\n",
    "    _instances = {}\n",
    "\n",
    "    @staticmethod\n",
    "    def create_object(object_type):\n",
    "        if object_type not in SingleFactory._instances:\n",
    "            _instances[object_type] = SimpleFactroy.create_shape(object_type)\n",
    "        return _instances[object_type]"
   ]
  },
  {
   "cell_type": "markdown",
   "id": "9f198d85-1d8c-449a-b597-add603b3eab6",
   "metadata": {
    "panel-layout": {
     "height": 95.359375,
     "visible": true,
     "width": 100
    }
   },
   "source": [
    "### Abstract Factory with Reflection/Metaprograming\n",
    "\n",
    "* **Description** : Leverage reflection to dynamically intantiate class based of certain consition.\n",
    "* **Use Case** : When dealing with large systems that have many potential configurations or when you want to automate the instantiation process based on certain attrubute"
   ]
  },
  {
   "cell_type": "code",
   "execution_count": 25,
   "id": "9da0e139-7e3d-4891-80eb-605e71747aec",
   "metadata": {
    "panel-layout": {
     "height": 10,
     "visible": true,
     "width": 100
    }
   },
   "outputs": [
    {
     "data": {
      "text/plain": [
       "__main__.ProductA"
      ]
     },
     "execution_count": 25,
     "metadata": {},
     "output_type": "execute_result"
    }
   ],
   "source": [
    "class AbstractRelectionFactory:\n",
    "    def create(self, product_type):\n",
    "        class_name = f\"Product{product_type}\"\n",
    "        return globals().get(class_name)\n",
    "\n",
    "factory = AbstractRelectionFactory()\n",
    "factory.create(\"A\")"
   ]
  },
  {
   "cell_type": "markdown",
   "id": "2fde14d4-b8b5-4da8-b33d-987b399f168b",
   "metadata": {
    "panel-layout": {
     "height": 44.09375,
     "visible": true,
     "width": 100
    }
   },
   "source": [
    "### Multiple Factory Method"
   ]
  },
  {
   "cell_type": "code",
   "execution_count": 27,
   "id": "e4bac49d-e167-4953-b451-8a35b4faf9d7",
   "metadata": {},
   "outputs": [],
   "source": [
    "class Creator:\n",
    "    def create_basic_product(self):\n",
    "        return \"Basic Product\"\n",
    "    \n",
    "    def create_advance_product(self):\n",
    "        return \"Advance Product\""
   ]
  },
  {
   "cell_type": "markdown",
   "id": "9afb9bbf-efed-4d0f-9bad-f18fb98f3a3d",
   "metadata": {
    "panel-layout": {
     "height": 78.21875,
     "visible": true,
     "width": 100
    }
   },
   "source": [
    "### Factory with prototype\n",
    "\n",
    "* **Description** : Instead of creating object from scratch, we can clone from exiting. This is faster as compare to creation of object."
   ]
  },
  {
   "cell_type": "code",
   "execution_count": 29,
   "id": "a14e1d1f-16ca-4a9a-a3fb-313d967fc128",
   "metadata": {},
   "outputs": [],
   "source": [
    "import copy\n",
    "\n",
    "class ProductPrototype:\n",
    "    def clone(self):\n",
    "        return copy.deepcopy(self)\n",
    "\n",
    "class ConcreteProduct(ProductPrototype):\n",
    "    def __init__(self, name):\n",
    "        self.name = name\n",
    "    \n",
    "    def __str__(self):\n",
    "        return f\"Product: {self.name}\""
   ]
  },
  {
   "cell_type": "code",
   "execution_count": 30,
   "id": "1ce211ff-a443-4545-a07b-493999cea5ce",
   "metadata": {
    "panel-layout": {
     "height": 0,
     "visible": true,
     "width": 100
    }
   },
   "outputs": [
    {
     "name": "stdout",
     "output_type": "stream",
     "text": [
      "Product: ProductA\n"
     ]
    }
   ],
   "source": [
    "prototype = ConcreteProduct(\"ProductA\")\n",
    "product = prototype.clone()\n",
    "print(product)"
   ]
  },
  {
   "cell_type": "markdown",
   "id": "f60c6725-6097-40d8-b597-097b2a3453eb",
   "metadata": {
    "panel-layout": {
     "height": 78.21875,
     "visible": true,
     "width": 100
    }
   },
   "source": [
    "### Parameterized Factory\n",
    "\n",
    "* **Description** : Create a factory that allows client to pass parameters the kind of object to be created."
   ]
  },
  {
   "cell_type": "code",
   "execution_count": 32,
   "id": "458dc1fd-74d5-4070-9b3e-5b004237a7f1",
   "metadata": {},
   "outputs": [],
   "source": [
    "class ConnectionFactory:\n",
    "    @staticmethod\n",
    "    def create_connection(db_type, host, port):\n",
    "        if db_type == 'MySQL':\n",
    "            return f\"MySQL connection {host}::{port}\"\n",
    "        elif db_type == 'PostgreSQL':\n",
    "            return f\"PostgreSQL connection {host}::{port}\""
   ]
  },
  {
   "cell_type": "code",
   "execution_count": null,
   "id": "9a0935b6-58c7-4eb7-be8d-95fe57391dc9",
   "metadata": {},
   "outputs": [],
   "source": []
  }
 ],
 "metadata": {
  "kernelspec": {
   "display_name": "Python [conda env:base] *",
   "language": "python",
   "name": "conda-base-py"
  },
  "language_info": {
   "codemirror_mode": {
    "name": "ipython",
    "version": 3
   },
   "file_extension": ".py",
   "mimetype": "text/x-python",
   "name": "python",
   "nbconvert_exporter": "python",
   "pygments_lexer": "ipython3",
   "version": "3.10.16"
  },
  "panel-cell-order": [
   "8e629083-8699-490a-a6b6-76ec306e65eb",
   "2ae1ace0-4793-420d-b1df-477672c34407",
   "6a1f6927-34c9-45b2-a02f-02841f99d003",
   "cc681a44-e478-42d6-8ae7-e6af4a30d31e",
   "b50c3ba6-a927-4b56-9f9d-55337103177e",
   "86cab422-ad6f-4f52-867e-3b4ef932ed08",
   "1e012a7e-6672-4833-b0e1-abade7997e3f",
   "cb9d0545-49fe-4be1-a359-1696e1fdb39b",
   "4a068b6d-72ba-4572-a48c-92dade634d1e",
   "4dabe325-d83f-4540-8ba0-1e8a4012f072",
   "741a507e-1b69-45b5-952b-43698edd7326",
   "0213032d-b744-4971-99e6-afaad94c4bc6",
   "3836ec08-c4fc-4887-9d0e-7b27a4847601",
   "2f3e5e31-8e21-4edc-8b79-1fb2e8cd8137",
   "07550833-7297-474b-aed3-a86c2284e4a9",
   "caadb830-81a1-49ad-b0f1-5f81588bdc01",
   "9f198d85-1d8c-449a-b597-add603b3eab6",
   "9da0e139-7e3d-4891-80eb-605e71747aec",
   "2fde14d4-b8b5-4da8-b33d-987b399f168b",
   "9afb9bbf-efed-4d0f-9bad-f18fb98f3a3d",
   "1ce211ff-a443-4545-a07b-493999cea5ce",
   "f60c6725-6097-40d8-b597-097b2a3453eb"
  ]
 },
 "nbformat": 4,
 "nbformat_minor": 5
}
