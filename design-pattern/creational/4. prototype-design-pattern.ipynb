{
 "cells": [
  {
   "cell_type": "markdown",
   "id": "ed801504-54f8-478b-81c0-ec3fca754de4",
   "metadata": {},
   "source": [
    "# Prototype Design Pattern"
   ]
  },
  {
   "cell_type": "markdown",
   "id": "773f4318-e8e3-4d92-b710-0c368956fb64",
   "metadata": {},
   "source": [
    "The **Prototype Design Pattern** is a creational design pattern that allows for creation of new obhects by copying an existing object, knows as prototype. This can be perticularly useful when object creation is complex or expensive, and you want to create new instances efficiently by cloning an existing one.\n",
    "\n",
    "Here are several ideas and variations of **Prototype Pattern** that can be used in different scenarios:"
   ]
  },
  {
   "cell_type": "markdown",
   "id": "61dab1b1-6dec-484f-9f4c-c49b4ae7e7e3",
   "metadata": {},
   "source": [
    "## Basic Prototype Pattern"
   ]
  },
  {
   "cell_type": "markdown",
   "id": "cb8e6d17-14d6-48cb-a583-4568c6281074",
   "metadata": {},
   "source": [
    "* **Description** : In its simplest form, the prototype involves creating a clone of exisitng object using a *clone()* method.\n",
    "* **Use Case** : When creating new instances of object is expensive, and you want to reuse exisitng objects to improve performance.\n",
    "\n",
    "**Note** : Creation of new object is 40% slower than cloning from existing due to contructor chaining, default fields, initialisation, creational validations etc overhead while creating using contructor. "
   ]
  },
  {
   "cell_type": "code",
   "execution_count": 6,
   "id": "32e42967-561b-4f45-81c6-f7afb17c044f",
   "metadata": {},
   "outputs": [
    {
     "name": "stdout",
     "output_type": "stream",
     "text": [
      "10\n"
     ]
    }
   ],
   "source": [
    "import copy\n",
    "\n",
    "class Prototype:\n",
    "    def __init__(self, value):\n",
    "        self.value = value\n",
    "\n",
    "    def clone(self):\n",
    "        return copy.deepcopy(self)\n",
    "\n",
    "original = Prototype(10)\n",
    "cloned = original.clone()\n",
    "print(cloned.value)"
   ]
  },
  {
   "cell_type": "markdown",
   "id": "40e9a40e-50ad-4507-b690-598bfaae7807",
   "metadata": {},
   "source": [
    "## Prototype Factory"
   ]
  },
  {
   "cell_type": "markdown",
   "id": "98c074e6-8d74-4272-a6b7-3a4079f6cea1",
   "metadata": {},
   "source": [
    "* **Description** : A protoype factory is a central place where you store prototype. This allows you to clone objects based on type or identifier without needing to know the details of the object.\n",
    "* **Use Case** : Useful when you need to instantiate object dynamically based on different configurations or type and want to avoid manual object creation."
   ]
  },
  {
   "cell_type": "code",
   "execution_count": 9,
   "id": "581b3db7-7111-452d-a191-48391db67b94",
   "metadata": {},
   "outputs": [],
   "source": [
    "class Prototype:\n",
    "    def __init__(self, value):\n",
    "        self.value = value\n",
    "\n",
    "    def clone(self) -> Prototype:\n",
    "        return copy.deepcopy(self)\n",
    "\n",
    "class PrototypeFactory:\n",
    "    def __init__(self):\n",
    "        self._prototypes = {}\n",
    "\n",
    "    def register_prototype(self, name:str, prototype:Prototype) -> None:\n",
    "        self._prototypes[name] = prototype\n",
    "\n",
    "    def clone_prototype(self, name:str) -> Prototype:\n",
    "        return self._prototypes[name].clone()"
   ]
  },
  {
   "cell_type": "code",
   "execution_count": 10,
   "id": "77a31b62-fb2b-412e-85a9-50766d4642f5",
   "metadata": {},
   "outputs": [
    {
     "name": "stdout",
     "output_type": "stream",
     "text": [
      "1\n",
      "2\n"
     ]
    }
   ],
   "source": [
    "### Usages \n",
    "\n",
    "proto_1 = Prototype(1)\n",
    "proto_2 = Prototype(2)\n",
    "\n",
    "factory = PrototypeFactory()\n",
    "factory.register_prototype(\"1\", proto_1)\n",
    "factory.register_prototype(\"2\", proto_2)\n",
    "\n",
    "clone_1 = factory.clone_prototype(\"1\")\n",
    "print(clone_1.value)\n",
    "clone_2 = factory.clone_prototype(\"2\")\n",
    "print(clone_2.value)"
   ]
  },
  {
   "cell_type": "markdown",
   "id": "198fab78-f81d-4d94-9eb6-0ac99093ab16",
   "metadata": {},
   "source": [
    "## Prototype with Configuration"
   ]
  },
  {
   "cell_type": "markdown",
   "id": "8ed60f21-df27-4740-acd9-d5a401ea81ec",
   "metadata": {},
   "source": [
    "* **Description** : The prototype can be customized by passing in configuration parameters after it is cloned. This allow you to start with base prototype and adjust its properties and behaviour for specific use cases.\n",
    "* **Use Case** : When you have default object configuration but need slight modification for different cases, such as game characters with slight differences anbd their attrubutes."
   ]
  },
  {
   "cell_type": "code",
   "execution_count": 13,
   "id": "8279839a-817f-4ebc-922e-38aecdebc436",
   "metadata": {},
   "outputs": [
    {
     "name": "stdout",
     "output_type": "stream",
     "text": [
      "Character(Hulk, 100, 50)\n",
      "Character(Red Hulk, 80, 50)\n"
     ]
    }
   ],
   "source": [
    "class Character:\n",
    "    def __init__(self, name, health, strength):\n",
    "        self.name = name\n",
    "        self.health = health\n",
    "        self.strength = strength\n",
    "\n",
    "    def clone(self, new_name=None, new_health=None):\n",
    "        cloned = copy.deepcopy(self)\n",
    "        if new_name:\n",
    "            cloned.name = new_name\n",
    "        if new_health:\n",
    "            cloned.health = new_health\n",
    "        return cloned\n",
    "\n",
    "    def __str__(self):\n",
    "        return f\"Character({self.name}, {self.health}, {self.strength})\"\n",
    "\n",
    "### Usage \n",
    "hero = Character(\"Hulk\", 100, 50)\n",
    "villain = hero.clone(\"Red Hulk\", 80)\n",
    "print(hero)\n",
    "print(villain)"
   ]
  },
  {
   "cell_type": "markdown",
   "id": "749d6cc4-1544-4520-b1a5-0b73cafd376a",
   "metadata": {},
   "source": [
    "## Prototype with Protoype chaining"
   ]
  },
  {
   "cell_type": "markdown",
   "id": "1539627c-c768-4ddd-853c-e043fe9463d2",
   "metadata": {},
   "source": [
    "* **Description** : In Some cases, you may have a chain of prototype, where each prototype inherit from or clone another prototype. This allow you to creat complex objects by starting with base prototype.\n",
    "* **Use Case** : WHen you need a series of specialized objects that share a common base but need additional behaviour or properties. "
   ]
  },
  {
   "cell_type": "code",
   "execution_count": 16,
   "id": "3e6ad404-fae4-437c-a7c9-4efe080ab695",
   "metadata": {},
   "outputs": [
    {
     "name": "stdout",
     "output_type": "stream",
     "text": [
      "Base\n",
      "Advance feature\n"
     ]
    }
   ],
   "source": [
    "class BasePrototype:\n",
    "    def __init__(self, name):\n",
    "        self.name = name\n",
    "\n",
    "    def clone(self):\n",
    "        return copy.deepcopy(self)\n",
    "\n",
    "class AdvancePrototype(BasePrototype):\n",
    "    def __init__(self, name, feature):\n",
    "        super().__init__(name)\n",
    "        self.feature = feature\n",
    "\n",
    "    def clone(self):\n",
    "        return copy.deepcopy(self)\n",
    "\n",
    "### Usage\n",
    "base_proto = BasePrototype(\"Base\")\n",
    "cloned_base = base_proto.clone()\n",
    "\n",
    "advance_proto = AdvancePrototype(\"Advance\", \"feature\")\n",
    "cloned = advance_proto.clone()\n",
    "\n",
    "print(cloned_base.name)\n",
    "print(cloned.name, cloned.feature)"
   ]
  },
  {
   "cell_type": "code",
   "execution_count": null,
   "id": "edef5fad-8e47-4497-b051-e6ce48e930ba",
   "metadata": {},
   "outputs": [],
   "source": []
  }
 ],
 "metadata": {
  "kernelspec": {
   "display_name": "Python [conda env:base] *",
   "language": "python",
   "name": "conda-base-py"
  },
  "language_info": {
   "codemirror_mode": {
    "name": "ipython",
    "version": 3
   },
   "file_extension": ".py",
   "mimetype": "text/x-python",
   "name": "python",
   "nbconvert_exporter": "python",
   "pygments_lexer": "ipython3",
   "version": "3.10.16"
  }
 },
 "nbformat": 4,
 "nbformat_minor": 5
}
