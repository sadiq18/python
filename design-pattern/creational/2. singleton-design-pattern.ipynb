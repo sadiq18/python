{
 "cells": [
  {
   "cell_type": "markdown",
   "id": "5bfec7ec-97dd-4cfa-974e-051f704fc0ec",
   "metadata": {},
   "source": [
    "# Singleton Design Pattern"
   ]
  },
  {
   "cell_type": "markdown",
   "id": "d38dd22c-2c93-4539-bfdb-b35f123e1b92",
   "metadata": {},
   "source": [
    "The **Singleton Design Pattern** ensures that a class jas only one instance and provides a global point of access to it. It is often used in situations where a sinle instance is needed to coordinate acions across the system, such as managing a global settings, logging or connection pool.\n",
    "\n",
    "Here are several ideas and variations of Singleton pattern that you can use in different scenarios:"
   ]
  },
  {
   "cell_type": "markdown",
   "id": "4b779f1d-e9d3-440e-81bb-1f65875d762c",
   "metadata": {},
   "source": [
    "## Basic Singleton"
   ]
  },
  {
   "cell_type": "markdown",
   "id": "989dd36e-27da-44a3-9f84-c93b3700b9e4",
   "metadata": {},
   "source": [
    "* **Description** : A simple implementation where a class ensurs only one instance is created. This instance is lazily initilized (ie. only when it is first needed)\n",
    "* **Use Case** : Useful object that manage global states, such as logging and cinfiguration management."
   ]
  },
  {
   "cell_type": "code",
   "execution_count": 5,
   "id": "f2056866-8fd7-46ca-aeb0-e5314070ae36",
   "metadata": {},
   "outputs": [],
   "source": [
    "class Singleton:\n",
    "    _instance = None\n",
    "    \n",
    "    @staticmethod\n",
    "    def get_instance():\n",
    "        if _instance is None:\n",
    "            _instance = Singleton()\n",
    "        return _instance"
   ]
  },
  {
   "cell_type": "markdown",
   "id": "a788e8f9-2541-464b-ac37-2487c5802981",
   "metadata": {},
   "source": [
    "## Thread-Safe Singleton"
   ]
  },
  {
   "cell_type": "markdown",
   "id": "755d462d-8c2a-485f-9c79-d0de4e3b9bdc",
   "metadata": {},
   "source": [
    "* **Description** : A thread-safe Singleton ensures that the instance is created only once event in multi-threaded environments. This often use locks or syncronous mechanism to prevent race condition.\n",
    "* **Use Case** : WHen multiple thread may simultaneously request the Singleton instance. "
   ]
  },
  {
   "cell_type": "code",
   "execution_count": 8,
   "id": "249b5a68-52af-408c-b827-6ac8adc15f52",
   "metadata": {},
   "outputs": [],
   "source": [
    "import threading\n",
    "\n",
    "class Singleton:\n",
    "    _instance = None\n",
    "    _lock = threading.Lock()\n",
    "    \n",
    "    @staticmethod\n",
    "    def get_instance():\n",
    "        with Singleton._lock:\n",
    "            if Singleton._instance is None:\n",
    "                Singleton._instance = Singleton()\n",
    "        return Singleton._instance"
   ]
  },
  {
   "cell_type": "markdown",
   "id": "0bf83829-9bc1-47d3-9826-ef523e0f18fd",
   "metadata": {},
   "source": [
    "## Double-checked Locking Singleton"
   ]
  },
  {
   "cell_type": "markdown",
   "id": "7f08d8c6-b3ef-4753-8900-428517224071",
   "metadata": {},
   "source": [
    "* **Description** : A more efficient version of the thread-safe singleton that minimize the performence overhead caused by acquiring lock everytime the instance is accessed. It checks twice whether the instance is *None*: once before entering the lock and once after entering the lock.\n",
    "* **Use Case**: For highly concurrent environment where performent is critical."
   ]
  },
  {
   "cell_type": "code",
   "execution_count": 11,
   "id": "2bf288df-586d-4e78-8d02-192ed1ce1ccb",
   "metadata": {},
   "outputs": [],
   "source": [
    "import threading\n",
    "\n",
    "class Singleton:\n",
    "    _instance = None\n",
    "    _lock = threading.Lock()\n",
    "    \n",
    "    @staticmethod\n",
    "    def get_instance():\n",
    "        if Singleton._instance is None:\n",
    "            with Singleton._lock:\n",
    "                if Singleton._instance is None:\n",
    "                    Singleton._instance = Singleton()\n",
    "        return Singleton._instance"
   ]
  },
  {
   "cell_type": "markdown",
   "id": "9e7a44a6-4b26-4c09-85e4-ad8e0f22eb59",
   "metadata": {},
   "source": [
    "## Eager Initilization Singleton"
   ]
  },
  {
   "cell_type": "markdown",
   "id": "14c56d71-7c2a-41fb-b980-83fa23e5d98e",
   "metadata": {},
   "source": [
    "* **Description** : In this version of singleton, the instance is created at the time of class loading, ensuring that is is available immediately. It is less less efficient if the instance creation is resource intensive but can be useful for simpler, non-expensive initialisation.\n",
    "* **Use Case** : When singleton instance is needed as soon as the application starts up, and object initialization is lightweight."
   ]
  },
  {
   "cell_type": "code",
   "execution_count": 14,
   "id": "5b6c501e-d571-4458-a372-f0971bbdb4d9",
   "metadata": {},
   "outputs": [],
   "source": [
    "class Singleton:\n",
    "    _instance = Singleton()\n",
    "\n",
    "    @staticmethod\n",
    "    def get_instance():\n",
    "        return _instance"
   ]
  },
  {
   "cell_type": "markdown",
   "id": "199b0151-aa5f-4db2-9ef7-366a0112eb9f",
   "metadata": {},
   "source": [
    "## Multiton "
   ]
  },
  {
   "cell_type": "markdown",
   "id": "4a4c98d1-5c20-4036-9f22-ad0395f3fd4c",
   "metadata": {},
   "source": [
    "* **Description** : The **Multiton** is a variant of the Singleton pattern where instead of haveing a single instance, multiple instances are created based on key (or identifier). Each key maps to a unique instance.\n",
    "* **Use Case** : When you need a fixed number of instances, such as managing different configurations or user sessions."
   ]
  },
  {
   "cell_type": "code",
   "execution_count": 17,
   "id": "a17f2695-a185-49ee-8465-bc69de1315a8",
   "metadata": {},
   "outputs": [],
   "source": [
    "class Multiton:\n",
    "    _instances = {}\n",
    "    \n",
    "    @staticmethod\n",
    "    def get_instance(key):\n",
    "        if key not in Multiton._instances:\n",
    "            Multiton._instances[key] = Multiton(key)\n",
    "        return Multiton._instances[key]\n",
    "\n",
    "    def __init__(self, key):\n",
    "        self.key = key"
   ]
  },
  {
   "cell_type": "markdown",
   "id": "169606ae-3088-4584-9c6d-a99deadb4742",
   "metadata": {},
   "source": [
    "## Enum-based SIngleton"
   ]
  },
  {
   "cell_type": "markdown",
   "id": "2f21a05e-79e2-430b-8961-a2bdfbb8d75d",
   "metadata": {},
   "source": [
    "* **Description** : In some languages, Enum types can be used to implement Singlton. Enum guarantees that only one instance of class can exists and thread-safe without requiring synchronisation.\n",
    "* **Use Case** : When you want highly robust, thread-safe Singleton implementation without worrying about synchronization or lock management."
   ]
  },
  {
   "cell_type": "code",
   "execution_count": 20,
   "id": "a03bccac-05ee-4fda-9448-62b00c11e331",
   "metadata": {},
   "outputs": [],
   "source": [
    "from enum import Enum\n",
    "\n",
    "class SingletonEnum(Enum):\n",
    "    INSTANCE = Singleton()\n",
    "\n",
    "# Usage \n",
    "singleton = SingletonEnum.INSTANCE"
   ]
  },
  {
   "cell_type": "code",
   "execution_count": 21,
   "id": "e9f28659-b78f-4a04-8014-c2a9bc90f79a",
   "metadata": {},
   "outputs": [
    {
     "data": {
      "text/plain": [
       "<SingletonEnum.INSTANCE: <__main__.Singleton object at 0x11cf17a90>>"
      ]
     },
     "execution_count": 21,
     "metadata": {},
     "output_type": "execute_result"
    }
   ],
   "source": [
    "singleton"
   ]
  },
  {
   "cell_type": "markdown",
   "id": "f6bffb0e-04d9-459f-9588-863e3f110669",
   "metadata": {},
   "source": [
    "## Singleton with initilization Parameters"
   ]
  },
  {
   "cell_type": "markdown",
   "id": "bb1f02fa-fbaa-42d8-b9c0-0be3980c12ec",
   "metadata": {},
   "source": [
    "* **Description** : Allow the singleton instance to be intialized with parameters, but only once. if an attempt is made to initialise it with new parameters after it has been created, an error is raised or previous configuration is kept.\n",
    "* **Use Case** : When you need to initialized the Singleton with certain configuration values the first time it is created, but do not want to allow reinitialization."
   ]
  },
  {
   "cell_type": "code",
   "execution_count": 24,
   "id": "7599c575-dd33-46af-8562-2b9669dd52f2",
   "metadata": {},
   "outputs": [],
   "source": [
    "class Singleton:\n",
    "    _instance = None\n",
    "    \n",
    "    def __init__(self, value):\n",
    "        if Singleton.instance is not None:\n",
    "            raise ValueError(\"Singleton already initialized\")\n",
    "        self.value = value\n",
    "        Singleton._instance = self\n",
    "\n",
    "    @staticmethod\n",
    "    def get_instance(value):\n",
    "        if Singleton._instance is None:\n",
    "            Singleton._instance = Singleton(value)\n",
    "        return Singleton._instance"
   ]
  },
  {
   "cell_type": "markdown",
   "id": "f194ae19-85b8-4e6a-8336-3141957a784f",
   "metadata": {},
   "source": [
    "## Singleton with Cache"
   ]
  },
  {
   "cell_type": "markdown",
   "id": "01f1768c-2e8a-4ab4-bfe1-eee72c22981e",
   "metadata": {},
   "source": [
    "* **Description** : Combine the Singleton Design pattern with caching. You can cache configurations or object states and return the cache instance if configuration is previously initialized.\n",
    "* **Use Case** : Useful in application with costly initilization steps that may need to cache multiple configurations or states."
   ]
  },
  {
   "cell_type": "code",
   "execution_count": 27,
   "id": "20f9791f-9478-4fdb-b859-24f80cc7e0e1",
   "metadata": {},
   "outputs": [],
   "source": [
    "class Singleton:\n",
    "    _instance_cache = {}\n",
    "\n",
    "    @staticmethod\n",
    "    def get_instance(key):\n",
    "        if key not in _instance_cache:\n",
    "            _instance_cache[key] = Singleton(key)\n",
    "        return _instance_cache[key]\n",
    "\n",
    "    def __init__(self, key):\n",
    "        self.key = key"
   ]
  },
  {
   "cell_type": "markdown",
   "id": "0f45dd65-91aa-4f44-8533-85cde2f3f1d3",
   "metadata": {},
   "source": [
    "## Lazy Singleton with Weak Reference"
   ]
  },
  {
   "cell_type": "markdown",
   "id": "8b2578d7-d0b2-46d8-b204-56e4b89c20a3",
   "metadata": {},
   "source": [
    "* **Description** : A Singleton implementation where instance is stored using a **weak reference**. This allow the object to be garbage collected when no other strong references exists, potentailly freeing up memory in long-running application.\n",
    "* **Use Case** : When the Singleton object is memory-intensive and when you allow it to be garbage-collected if it is no longer needed."
   ]
  },
  {
   "cell_type": "code",
   "execution_count": 30,
   "id": "091ee5d4-d126-412f-80aa-05d127af2158",
   "metadata": {},
   "outputs": [],
   "source": [
    "import weakref\n",
    "\n",
    "class Singleton:\n",
    "    _instance = None\n",
    "\n",
    "    @staticmethod\n",
    "    def get_instance():\n",
    "        if Singleton._instance is None:\n",
    "            Singleton._instance = wearref.ref(Singleton())\n",
    "        return Singleton._instance() if Singleton._instance else Singleton()"
   ]
  },
  {
   "cell_type": "markdown",
   "id": "390f9be0-30ae-4b0f-a201-68bc2f83079b",
   "metadata": {},
   "source": [
    "## Singleton with Multiple Access Point (Proxy Singleton)"
   ]
  },
  {
   "cell_type": "markdown",
   "id": "7f9b80c1-2fa7-4c08-b654-62403735fa6e",
   "metadata": {},
   "source": [
    "* **Description** : A **Proxy Singleton** pattern, where Singleton instance can be access via different access points or proxies. Each proxy might provide different behaviour.\n",
    "* **Use Case** : When you need access to the Singleton from multiple parts of a system, each with potentially different patterns (eg. logging proxy, caching proxy)"
   ]
  },
  {
   "cell_type": "code",
   "execution_count": 33,
   "id": "472c3761-729f-43ab-a655-17918f163d36",
   "metadata": {},
   "outputs": [],
   "source": [
    "class Singleton:\n",
    "    _instance = None\n",
    "    \n",
    "    @staticmethod\n",
    "    def get_instance():\n",
    "        if Singleton._instance is None:\n",
    "            Singleton._instance = Singleton()\n",
    "        return Singleton._instance\n",
    "\n",
    "class ProxySingleton:\n",
    "    \n",
    "    @staticmethod\n",
    "    def get_instance():\n",
    "        return Singleton.get_instance()\n",
    "\n",
    "## Usage\n",
    "singleton = ProxySingleton.get_instance()"
   ]
  },
  {
   "cell_type": "code",
   "execution_count": null,
   "id": "2094347e-ca0f-4077-ab3f-18caca350c58",
   "metadata": {},
   "outputs": [],
   "source": []
  }
 ],
 "metadata": {
  "kernelspec": {
   "display_name": "Python [conda env:base] *",
   "language": "python",
   "name": "conda-base-py"
  },
  "language_info": {
   "codemirror_mode": {
    "name": "ipython",
    "version": 3
   },
   "file_extension": ".py",
   "mimetype": "text/x-python",
   "name": "python",
   "nbconvert_exporter": "python",
   "pygments_lexer": "ipython3",
   "version": "3.10.16"
  }
 },
 "nbformat": 4,
 "nbformat_minor": 5
}
