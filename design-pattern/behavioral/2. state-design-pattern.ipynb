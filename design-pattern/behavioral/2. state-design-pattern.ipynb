{
 "cells": [
  {
   "cell_type": "markdown",
   "id": "652d7643-485e-4bc1-aaea-b57f919ea3ae",
   "metadata": {},
   "source": [
    "# State Design Pattern"
   ]
  },
  {
   "cell_type": "markdown",
   "id": "ad464dd3-8017-4fd4-aa50-25e83db306fd",
   "metadata": {},
   "source": [
    "The **State Design Pattern** is a behavioral design pattern used to manage the state of an object. It allows an object to change its behavior when its internal state changes, and it appears as if the object has changed its class.\n",
    "\n",
    "Below are some ideas and examples of implementing the State Design Pattern:"
   ]
  },
  {
   "cell_type": "markdown",
   "id": "24d52518-d02c-4a6f-94e5-4e615c6e4c56",
   "metadata": {},
   "source": [
    "## Traffic Light System\n",
    "\n",
    "* **Use Case**: Simulate a traffic light with states such as Red, Yellow, and Green. The system transitions between states in a predefined sequence."
   ]
  },
  {
   "cell_type": "code",
   "execution_count": 6,
   "id": "d648a5c9-ee44-494d-88d4-cfd118cf5059",
   "metadata": {},
   "outputs": [
    {
     "name": "stdout",
     "output_type": "stream",
     "text": [
      "Switching from Red to Green.\n",
      "Switching from Green to Yellow.\n",
      "Switching from Yellow to Red.\n"
     ]
    }
   ],
   "source": [
    "# State Interface\n",
    "class TrafficLightState():\n",
    "    \n",
    "    def switch(self, traffic_light):\n",
    "        raise NotImplementedError\n",
    "\n",
    "# Concrete States\n",
    "class RedLight(TrafficLightState):\n",
    "    def switch(self, traffic_light):\n",
    "        print(\"Switching from Red to Green.\")\n",
    "        traffic_light.state = GreenLight()\n",
    "\n",
    "class GreenLight(TrafficLightState):\n",
    "    def switch(self, traffic_light):\n",
    "        print(\"Switching from Green to Yellow.\")\n",
    "        traffic_light.state = YellowLight()\n",
    "\n",
    "class YellowLight(TrafficLightState):\n",
    "    def switch(self, traffic_light):\n",
    "        print(\"Switching from Yellow to Red.\")\n",
    "        traffic_light.state = RedLight()\n",
    "\n",
    "# Context\n",
    "class TrafficLight:\n",
    "    def __init__(self):\n",
    "        self.state = RedLight()\n",
    "\n",
    "    def change(self):\n",
    "        self.state.switch(self)\n",
    "\n",
    "# Usage\n",
    "traffic_light = TrafficLight()\n",
    "traffic_light.change()  # Red to Green\n",
    "traffic_light.change()  # Green to Yellow\n",
    "traffic_light.change()  # Yellow to Red"
   ]
  },
  {
   "cell_type": "markdown",
   "id": "6cde2195-3bc2-43de-af38-584175f19e9d",
   "metadata": {},
   "source": [
    "## Order Management System\n",
    "\n",
    "* **Use Case**: Model an e-commerce order that transitions through states such as Created, Paid, Shipped, and Delivered."
   ]
  },
  {
   "cell_type": "code",
   "execution_count": 9,
   "id": "9b2ccb86-7a5d-4049-bcc7-aa2c37232880",
   "metadata": {},
   "outputs": [
    {
     "name": "stdout",
     "output_type": "stream",
     "text": [
      "Current state: Order Created\n",
      "Current state: Order Paid\n",
      "Current state: Order Shipped\n",
      "Current state: Order Paid\n"
     ]
    }
   ],
   "source": [
    "class OrderState:\n",
    "    \n",
    "    def next(self, order):\n",
    "        raise NotImplementedError \n",
    "\n",
    "    def previous(self, order):\n",
    "        raise NotImplementedError \n",
    "        \n",
    "    def __str__(self):\n",
    "        raise NotImplementedError \n",
    "\n",
    "class CreatedState(OrderState):\n",
    "    def next(self, order):\n",
    "        order.state = PaidState()\n",
    "\n",
    "    def previous(self, order):\n",
    "        print(\"This is the initial state. Can't go back.\")\n",
    "\n",
    "    def __str__(self):\n",
    "        return \"Order Created\"\n",
    "\n",
    "class PaidState(OrderState):\n",
    "    def next(self, order):\n",
    "        order.state = ShippedState()\n",
    "\n",
    "    def previous(self, order):\n",
    "        order.state = CreatedState()\n",
    "\n",
    "    def __str__(self):\n",
    "        return \"Order Paid\"\n",
    "\n",
    "class ShippedState(OrderState):\n",
    "    def next(self, order):\n",
    "        order.state = DeliveredState()\n",
    "\n",
    "    def previous(self, order):\n",
    "        order.state = PaidState()\n",
    "\n",
    "    def __str__(self):\n",
    "        return \"Order Shipped\"\n",
    "\n",
    "class DeliveredState(OrderState):\n",
    "    def next(self, order):\n",
    "        print(\"Order already delivered. Can't proceed further.\")\n",
    "\n",
    "    def previous(self, order):\n",
    "        order.state = ShippedState()\n",
    "\n",
    "    def __str__(self):\n",
    "        return \"Order Delivered\"\n",
    "\n",
    "class Order:\n",
    "    def __init__(self):\n",
    "        self.state = CreatedState()\n",
    "\n",
    "    def next_state(self):\n",
    "        self.state.next(self)\n",
    "\n",
    "    def previous_state(self):\n",
    "        self.state.previous(self)\n",
    "\n",
    "    def __str__(self):\n",
    "        return f\"Current state: {self.state}\"\n",
    "\n",
    "# Usage\n",
    "order = Order()\n",
    "print(order)\n",
    "order.next_state()\n",
    "print(order)\n",
    "order.next_state()\n",
    "print(order)\n",
    "order.previous_state()\n",
    "print(order)"
   ]
  },
  {
   "cell_type": "code",
   "execution_count": null,
   "id": "8eab27e5-811d-494a-acea-8b8a52794e65",
   "metadata": {},
   "outputs": [],
   "source": []
  }
 ],
 "metadata": {
  "kernelspec": {
   "display_name": "Python [conda env:base] *",
   "language": "python",
   "name": "conda-base-py"
  },
  "language_info": {
   "codemirror_mode": {
    "name": "ipython",
    "version": 3
   },
   "file_extension": ".py",
   "mimetype": "text/x-python",
   "name": "python",
   "nbconvert_exporter": "python",
   "pygments_lexer": "ipython3",
   "version": "3.10.16"
  }
 },
 "nbformat": 4,
 "nbformat_minor": 5
}
