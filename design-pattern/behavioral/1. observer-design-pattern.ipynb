{
 "cells": [
  {
   "cell_type": "markdown",
   "id": "86b371b2-df64-4dbc-97df-62cb4eed8632",
   "metadata": {},
   "source": [
    "# Observer Design Pattern"
   ]
  },
  {
   "cell_type": "markdown",
   "id": "c2950c8b-f182-4b5e-b5d2-6ebc16be0a87",
   "metadata": {},
   "source": [
    "The **Observer Design Pattern** is a behavioural design pattern that defines a one-to-many dependency relationship between objects, where a single subject (the \"observable\") can notify multiple observers (or listener) about changes to its state. This pattern is widely used in scenario where the state of one object needs to communicated to many other objects in a flexible a decoupled way. "
   ]
  },
  {
   "cell_type": "markdown",
   "id": "30b8a8ee-84da-42e4-a4ed-9adee62b9331",
   "metadata": {},
   "source": [
    "## Stock price monitoring system"
   ]
  },
  {
   "cell_type": "code",
   "execution_count": 7,
   "id": "43787c9a-6922-43d3-9e72-66f864a3b81a",
   "metadata": {},
   "outputs": [
    {
     "name": "stdout",
     "output_type": "stream",
     "text": [
      "The current stock price is 90\n",
      "The current stock price is 120\n",
      "Price Alert: Stock price is above 100, current price: 120\n"
     ]
    }
   ],
   "source": [
    "class StockPriceObserver:\n",
    "    def update(self, stock_price):\n",
    "        pass\n",
    "\n",
    "class Stock_Price:\n",
    "    def __init__(self):\n",
    "        self.observers = []\n",
    "        self.stock_price = 0\n",
    "\n",
    "    def attach(self, observer: StockPriceObserver):\n",
    "        self.observers.append(observer)\n",
    "\n",
    "    def detach(self, observer: StockPriceObserver):\n",
    "        self.observers.remove(observer)\n",
    "\n",
    "    def set_stock_price(self, price):\n",
    "        self.stock_price = price\n",
    "        self._notify_observer()\n",
    "\n",
    "    def _notify_observer(self):\n",
    "        for observer in self.observers:\n",
    "            observer.update(self.stock_price)\n",
    "\n",
    "class PriceDisplay(StockPriceObserver):\n",
    "    def update(self, stock_price):\n",
    "        print(f\"The current stock price is {stock_price}\")\n",
    "\n",
    "class PriceAlert(StockPriceObserver):\n",
    "    def __init__(self, threshold):\n",
    "        self.threshold = threshold\n",
    "\n",
    "    def update(self, stock_price):\n",
    "        if stock_price > self.threshold:\n",
    "            print(f\"Price Alert: Stock price is above {self.threshold}, current price: {stock_price}\")\n",
    "\n",
    "# Usage\n",
    "stock = Stock_Price()\n",
    "display = PriceDisplay()\n",
    "alert = PriceAlert(100)\n",
    "stock.attach(display)\n",
    "stock.attach(alert)\n",
    "\n",
    "stock.set_stock_price(90)\n",
    "stock.set_stock_price(120)"
   ]
  },
  {
   "cell_type": "markdown",
   "id": "aa882c22-a5b4-459d-84ff-5350cf709ee8",
   "metadata": {},
   "source": [
    "## Conclusion"
   ]
  },
  {
   "cell_type": "markdown",
   "id": "9cd6b0d1-4da3-4535-9250-65cddcee1a99",
   "metadata": {},
   "source": [
    "The **Observer Pattern** is highly useful in any system where one object's state change needs to be comminicated to multiple other objects without tight coupling. \n",
    "It is idea for real-time notifcations, live updates and event driven systems like stock price monitoring, weather data streaming, game state synchronisation and collabrative editing.\n",
    "The **Observer Pattern** promotes flexibility and allows components to evolve independently while staying in sync through a simple notification mechanism. "
   ]
  },
  {
   "cell_type": "code",
   "execution_count": null,
   "id": "9cad0936-7749-4c82-a9f5-3019766b0b54",
   "metadata": {},
   "outputs": [],
   "source": []
  }
 ],
 "metadata": {
  "kernelspec": {
   "display_name": "Python [conda env:base] *",
   "language": "python",
   "name": "conda-base-py"
  },
  "language_info": {
   "codemirror_mode": {
    "name": "ipython",
    "version": 3
   },
   "file_extension": ".py",
   "mimetype": "text/x-python",
   "name": "python",
   "nbconvert_exporter": "python",
   "pygments_lexer": "ipython3",
   "version": "3.10.16"
  }
 },
 "nbformat": 4,
 "nbformat_minor": 5
}
