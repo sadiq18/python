{
 "cells": [
  {
   "cell_type": "markdown",
   "id": "96650205-a908-4304-8c55-68459b912914",
   "metadata": {},
   "source": [
    "The **Iterator Design Pattern** is a behavioral design pattern used to sequentially access elements in a collection without exposing its underlying representation. This pattern is particularly useful when you need a consistent way to iterate over different types of collections or data structures.\n",
    "\n",
    "Here are some ideas and Python examples for the Iterator Design Pattern:"
   ]
  },
  {
   "cell_type": "markdown",
   "id": "9266a617-9d6f-43c1-8a0d-db793a1b3852",
   "metadata": {},
   "source": [
    "## Fibonacci Sequence\n",
    "\n",
    "* **Use Case**: Generate an iterator to produce Fibonacci numbers up to a certain limit."
   ]
  },
  {
   "cell_type": "code",
   "execution_count": 5,
   "id": "7c1c501a-1927-42c1-b29f-27c036bafdab",
   "metadata": {},
   "outputs": [
    {
     "name": "stdout",
     "output_type": "stream",
     "text": [
      "0\n",
      "1\n",
      "1\n",
      "2\n",
      "3\n",
      "5\n",
      "8\n",
      "13\n",
      "21\n",
      "34\n",
      "55\n",
      "89\n"
     ]
    }
   ],
   "source": [
    "class FibonacciIterator:\n",
    "    def __init__(self, max_value):\n",
    "        self.max_value = max_value\n",
    "        self.a, self.b = 0, 1\n",
    "\n",
    "    def __iter__(self):\n",
    "        return self\n",
    "\n",
    "    def __next__(self):\n",
    "        if self.a > self.max_value:\n",
    "            raise StopIteration\n",
    "        current = self.a\n",
    "        self.a, self.b = self.b, self.a + self.b\n",
    "        return current\n",
    "\n",
    "# Usage\n",
    "fib = FibonacciIterator(100)\n",
    "for number in fib:\n",
    "    print(number)"
   ]
  },
  {
   "cell_type": "markdown",
   "id": "ada98ecf-7950-4b77-9b2b-f943ca5f5939",
   "metadata": {},
   "source": [
    "## Book Collection\n",
    "\n",
    "**Use Case**: Manage a collection of books and allow iteration over them."
   ]
  },
  {
   "cell_type": "code",
   "execution_count": 8,
   "id": "4f148b58-6d4d-4d89-986d-d4e7ff71cf5a",
   "metadata": {},
   "outputs": [
    {
     "name": "stdout",
     "output_type": "stream",
     "text": [
      "1984 by George Orwell\n",
      "To Kill a Mockingbird by Harper Lee\n",
      "The Great Gatsby by F. Scott Fitzgerald\n"
     ]
    }
   ],
   "source": [
    "class Book:\n",
    "    def __init__(self, title, author):\n",
    "        self.title = title\n",
    "        self.author = author\n",
    "\n",
    "    def __str__(self):\n",
    "        return f\"{self.title} by {self.author}\"\n",
    "\n",
    "class BookCollection:\n",
    "    def __init__(self):\n",
    "        self.books = []\n",
    "\n",
    "    def add_book(self, book):\n",
    "        self.books.append(book)\n",
    "\n",
    "    def __iter__(self):\n",
    "        return iter(self.books)\n",
    "\n",
    "# Usage\n",
    "library = BookCollection()\n",
    "library.add_book(Book(\"1984\", \"George Orwell\"))\n",
    "library.add_book(Book(\"To Kill a Mockingbird\", \"Harper Lee\"))\n",
    "library.add_book(Book(\"The Great Gatsby\", \"F. Scott Fitzgerald\"))\n",
    "\n",
    "for book in library:\n",
    "    print(book)"
   ]
  },
  {
   "cell_type": "markdown",
   "id": "fc59ddaa-31cb-4f55-972b-93ff8484a0be",
   "metadata": {},
   "source": [
    "## Reverse String Iterator\n",
    "\n",
    "**Use Case** : Iterate over the characters of a string in reverse order."
   ]
  },
  {
   "cell_type": "code",
   "execution_count": 11,
   "id": "5f45dd81-d629-42b8-bddf-f5f3412b46a1",
   "metadata": {},
   "outputs": [
    {
     "name": "stdout",
     "output_type": "stream",
     "text": [
      "o\n",
      "l\n",
      "l\n",
      "e\n",
      "H\n"
     ]
    }
   ],
   "source": [
    "class ReverseStringIterator:\n",
    "    def __init__(self, string):\n",
    "        self.string = string\n",
    "        self.index = len(string)\n",
    "\n",
    "    def __iter__(self):\n",
    "        return self\n",
    "\n",
    "    def __next__(self):\n",
    "        if self.index == 0:\n",
    "            raise StopIteration\n",
    "        self.index -= 1\n",
    "        return self.string[self.index]\n",
    "\n",
    "# Usage\n",
    "reverse_iterator = ReverseStringIterator(\"Hello\")\n",
    "for char in reverse_iterator:\n",
    "    print(char)"
   ]
  },
  {
   "cell_type": "markdown",
   "id": "0a9b2d16-b5e5-457c-a008-579136e2dab6",
   "metadata": {},
   "source": [
    "## Nested List Iterator\n",
    "\n",
    "**Use Case**: Flatten and iterate over a nested list structure."
   ]
  },
  {
   "cell_type": "code",
   "execution_count": 14,
   "id": "211dd7ef-b2fb-441d-92c7-cbc66493bf52",
   "metadata": {},
   "outputs": [
    {
     "name": "stdout",
     "output_type": "stream",
     "text": [
      "1\n",
      "2\n",
      "3\n",
      "4\n",
      "5\n"
     ]
    }
   ],
   "source": [
    "class NestedListIterator:\n",
    "    def __init__(self, nested_list):\n",
    "        self.flat_list = self.flatten(nested_list)\n",
    "\n",
    "    def flatten(self, nested):\n",
    "        for item in nested:\n",
    "            if isinstance(item, list):\n",
    "                yield from self.flatten(item)\n",
    "            else:\n",
    "                yield item\n",
    "\n",
    "    def __iter__(self):\n",
    "        return iter(self.flat_list)\n",
    "\n",
    "# Usage\n",
    "nested_list = [1, [2, [3, 4]], 5]\n",
    "flat_iterator = NestedListIterator(nested_list)\n",
    "\n",
    "for item in flat_iterator:\n",
    "    print(item)"
   ]
  },
  {
   "cell_type": "code",
   "execution_count": null,
   "id": "8a884bf6-6a5f-4a35-8fe3-229e85fb154d",
   "metadata": {},
   "outputs": [],
   "source": []
  }
 ],
 "metadata": {
  "kernelspec": {
   "display_name": "Python [conda env:base] *",
   "language": "python",
   "name": "conda-base-py"
  },
  "language_info": {
   "codemirror_mode": {
    "name": "ipython",
    "version": 3
   },
   "file_extension": ".py",
   "mimetype": "text/x-python",
   "name": "python",
   "nbconvert_exporter": "python",
   "pygments_lexer": "ipython3",
   "version": "3.10.16"
  }
 },
 "nbformat": 4,
 "nbformat_minor": 5
}
