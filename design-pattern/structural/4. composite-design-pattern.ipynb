{
 "cells": [
  {
   "cell_type": "markdown",
   "id": "7aa35f55-894a-44e7-8af8-d0dbc5593a5b",
   "metadata": {},
   "source": [
    "# Composite Design Pattern"
   ]
  },
  {
   "cell_type": "markdown",
   "id": "598faf24-f70d-4107-9c1d-af71c914aad0",
   "metadata": {},
   "source": [
    "The **Composite Design Pattern** is a structural design pattern that lets you compose object into tree-like strcutures to repersent part-whole hierarchies. It allows you to treat indivisual objects and coposition of objects uniformly, simplifying the way you work with complex tree structures. \n",
    "This pattern is often used when you need to model a hierarchy of objects where some objects are containers (composites) and others are indivisual elements."
   ]
  },
  {
   "cell_type": "code",
   "execution_count": null,
   "id": "f90f15fa-fa4e-4288-a04f-6d08457c9a12",
   "metadata": {},
   "outputs": [],
   "source": [
    "class FileSystemComponent:\n",
    "    def display(self):\n",
    "        pass\n",
    "\n",
    "class File(FileSystemComponent):\n",
    "    def __init__(self, name):\n",
    "        self.name = name\n",
    "\n",
    "    def display(self):\n",
    "        print(f\"File: {self.name}\")\n",
    "\n",
    "class Directory(FileSystemComponent):\n",
    "    def __init__(self, name):\n",
    "        self.name = name\n",
    "        self.children = [] # gist of design pattern\n",
    "\n",
    "    def add(self, component):\n",
    "        self.children.append(component)\n",
    "\n",
    "    def remove(self, component):\n",
    "        self.children.remove(component)\n",
    "\n",
    "    def display(self):\n",
    "        print(f\"Directory: {self.name}\")\n",
    "        for child in self.children:\n",
    "            child."
   ]
  }
 ],
 "metadata": {
  "kernelspec": {
   "display_name": "Python [conda env:base] *",
   "language": "python",
   "name": "conda-base-py"
  },
  "language_info": {
   "codemirror_mode": {
    "name": "ipython",
    "version": 3
   },
   "file_extension": ".py",
   "mimetype": "text/x-python",
   "name": "python",
   "nbconvert_exporter": "python",
   "pygments_lexer": "ipython3",
   "version": "3.10.16"
  }
 },
 "nbformat": 4,
 "nbformat_minor": 5
}
