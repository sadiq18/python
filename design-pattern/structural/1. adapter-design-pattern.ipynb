{
 "cells": [
  {
   "cell_type": "markdown",
   "id": "ce926f0e-9fe0-4e5b-baf7-878f4c0535b6",
   "metadata": {},
   "source": [
    "# Adaptor Design Pattern"
   ]
  },
  {
   "cell_type": "markdown",
   "id": "f0b6525c-888f-4973-ad09-647edbb72bc9",
   "metadata": {},
   "source": [
    "The **Adapter Design Pattern** is a structural design pattern that allow you to convert one interface into another that a client expects. It acts as a bridge between two incompatible interfaces. The pattern is particularly useful when you need to integrate new classes into an existing system without modifying the system itself. \n",
    "\n",
    "Here are several creative ways the **Adapter Pattern** can be applied across various scenarion"
   ]
  },
  {
   "cell_type": "markdown",
   "id": "b82adb09-407e-4eb2-8c48-efb899af9933",
   "metadata": {},
   "source": [
    "## Class Adapter"
   ]
  },
  {
   "cell_type": "markdown",
   "id": "257bc953-f5fc-49ae-abce-f456813f2133",
   "metadata": {},
   "source": [
    "* **Descrption** : The adapter class iherits from target interface and use camposition to integrate the adaptee (the class being adapted). This is useful when you extend classes and the adaptee doesn't change frequently.\n",
    "* **Use Case** : When adapting an old class or legacy code with a new interface."
   ]
  },
  {
   "cell_type": "code",
   "execution_count": 7,
   "id": "466fab70-90b6-4587-b92f-b50e642e5733",
   "metadata": {},
   "outputs": [
    {
     "name": "stdout",
     "output_type": "stream",
     "text": [
      "Old system feature\n",
      "Old system feature\n"
     ]
    }
   ],
   "source": [
    "class OldSystem:\n",
    "    def old_method(self):\n",
    "        return \"Old system feature\"\n",
    "\n",
    "class NewSystem:\n",
    "    def new_method(self):\n",
    "        return \"New system feature\"\n",
    "\n",
    "class Adapter(NewSystem, OldSystem):\n",
    "    def new_method(self):\n",
    "        return self.old_method()\n",
    "\n",
    "# Usage\n",
    "adapter = Adapter()\n",
    "print(adapter.old_method())\n",
    "print(adapter.new_method())"
   ]
  },
  {
   "cell_type": "markdown",
   "id": "7e630674-f1f5-44d8-9867-ffb2f1ae8d5a",
   "metadata": {},
   "source": [
    "## Object Adapter"
   ]
  },
  {
   "cell_type": "markdown",
   "id": "b6322e85-0e73-4f7a-87f1-e2ccc66515cb",
   "metadata": {},
   "source": [
    "* **Description** : The adapter does not inherit from adaptee class but rather hold an instance of adaptee class and delegates the calls to it. This is useful when you can't modify the adaptee but still needs to adapt it behaviour to match the target interface.\n",
    "* **Use Case** : When working with external libraries or systems that you can't modify."
   ]
  },
  {
   "cell_type": "code",
   "execution_count": 14,
   "id": "28287d6c-f27f-4a97-98d0-09cf5a0ff302",
   "metadata": {},
   "outputs": [
    {
     "data": {
      "text/plain": [
       "'Old system feature'"
      ]
     },
     "execution_count": 14,
     "metadata": {},
     "output_type": "execute_result"
    }
   ],
   "source": [
    "class OldSystem:\n",
    "    def old_method(self):\n",
    "        return \"Old system feature\"\n",
    "\n",
    "class NewSystem:\n",
    "    def new_method(self):\n",
    "        return \"New system feature\"\n",
    "\n",
    "class Adapter(NewSystem):\n",
    "    def __init__(self, old_system: OldSystem):\n",
    "        self.old_system = old_system\n",
    "\n",
    "    def new_method(self):\n",
    "        return self.old_system.old_method()\n",
    "\n",
    "# Usage\n",
    "old_system = OldSystem()\n",
    "adapter = Adapter(old_system)\n",
    "adapter.new_method()"
   ]
  },
  {
   "cell_type": "markdown",
   "id": "d290bb37-6e5f-4af4-a469-ac9d25b5ef00",
   "metadata": {},
   "source": [
    "## Examples"
   ]
  },
  {
   "cell_type": "markdown",
   "id": "f1e14b8b-b5f9-4aff-8a71-5772b9186699",
   "metadata": {},
   "source": [
    "### Adapter for different data formsts"
   ]
  },
  {
   "cell_type": "code",
   "execution_count": 19,
   "id": "210e930f-edab-4bd6-b57f-47c3d7c9884c",
   "metadata": {},
   "outputs": [],
   "source": [
    "import csv\n",
    "import json\n",
    "\n",
    "class CSVReader:\n",
    "    def read_csv(self, file):\n",
    "        with open(file, newline='', encoding='utf-8') as f:\n",
    "            reader = csv.Dictreader(f)\n",
    "            return list(reader)\n",
    "\n",
    "\n",
    "class JSONReader:\n",
    "    def read_json(self, file):\n",
    "        with open(file, 'r', encoding='utf-8') as f:\n",
    "            return json.load(file)\n",
    "\n",
    "class CSVToJSONAdapter(JSONReader):\n",
    "    def __init__(self, csv_reader: CSVReader, file):\n",
    "        self.csv_reader = csv_reader\n",
    "        self.file = file\n",
    "\n",
    "    def read_json(self):\n",
    "        csv_data = self.csv_reader.read_csv(self.file)\n",
    "        return json.dump(csv_data)"
   ]
  },
  {
   "cell_type": "markdown",
   "id": "6456135d-0a53-420b-b312-86d62f2c6d20",
   "metadata": {},
   "source": [
    "### Adapter for Database abstraction"
   ]
  },
  {
   "cell_type": "code",
   "execution_count": 22,
   "id": "47946c11-9253-4e6e-be6f-e6bee676b63c",
   "metadata": {},
   "outputs": [],
   "source": [
    "class SQLDatabase:\n",
    "    def query(self, sql):\n",
    "        return f\"Executing SQL: {sql}\"\n",
    "\n",
    "class NoSQLDatabase:\n",
    "    def find(self, query):\n",
    "        return f\"Executing NoSQL: {query}\"\n",
    "\n",
    "class DatabaseAdapter(SQLDatabase):\n",
    "    def __init__(self, databse: NoSQLDatabase):\n",
    "        self.databse = databse\n",
    "\n",
    "    def query(self, query):\n",
    "        no_sql_query = f\"Translated from SQL: {query}\"\n",
    "        return databse.find(no_sql_query)"
   ]
  },
  {
   "cell_type": "markdown",
   "id": "889a74ad-7096-4db4-a7dd-94bb15e72940",
   "metadata": {},
   "source": [
    "## Summary"
   ]
  },
  {
   "cell_type": "markdown",
   "id": "169a5c61-f98a-42f6-a788-72ea80c8d584",
   "metadata": {},
   "source": [
    "The **Adapter Patter** is incredibly useful for integrating incredible interface, enabling systems to work together without modfying existing code. By \"adapting\" one interface to another, you can seemlessly add new feature, libraries or system into your application. Whether dealing with legacy code, external services, file format or UI components, the adapter pattern provides an elegant solution to bridging the gapo between incompatible systems."
   ]
  },
  {
   "cell_type": "code",
   "execution_count": null,
   "id": "2dda192f-5320-4722-bef4-2ef4165f3854",
   "metadata": {},
   "outputs": [],
   "source": []
  }
 ],
 "metadata": {
  "kernelspec": {
   "display_name": "Python [conda env:base] *",
   "language": "python",
   "name": "conda-base-py"
  },
  "language_info": {
   "codemirror_mode": {
    "name": "ipython",
    "version": 3
   },
   "file_extension": ".py",
   "mimetype": "text/x-python",
   "name": "python",
   "nbconvert_exporter": "python",
   "pygments_lexer": "ipython3",
   "version": "3.10.16"
  }
 },
 "nbformat": 4,
 "nbformat_minor": 5
}
