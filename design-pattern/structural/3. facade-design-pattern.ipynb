{
 "cells": [
  {
   "cell_type": "markdown",
   "id": "be1240cd-c28a-4816-9ba5-115b1f70ed05",
   "metadata": {},
   "source": [
    "# Facade Design Pattern"
   ]
  },
  {
   "cell_type": "markdown",
   "id": "5ef440e9-47bc-436c-9745-c234b1ebde8a",
   "metadata": {},
   "source": [
    "The **Facade Design Pattern** is a structural design pattern that provide a simplfied interface to a complex system, making it easier to interact with. The goal is to \"hide\" the complexity of a system behind a simple interface, making a system easier to use and understand without exposing its intricate details.\n",
    "\n",
    "Here are some creative ideas and use cases for applying the **Facade Pattern** across different domains:"
   ]
  },
  {
   "cell_type": "markdown",
   "id": "b35109e0-c15e-4142-9636-238860cd223c",
   "metadata": {},
   "source": [
    "## E-commerce Checkout System"
   ]
  },
  {
   "cell_type": "code",
   "execution_count": 9,
   "id": "593d07f0-f0e1-48fa-a80c-5d334249e95f",
   "metadata": {},
   "outputs": [
    {
     "name": "stdout",
     "output_type": "stream",
     "text": [
      "Payment of 100 processed.\n",
      "Invetory for product 101 updated.\n",
      "Shipping arranged to address 221B Baker Street, London\n"
     ]
    }
   ],
   "source": [
    "class PaymentProcessor:\n",
    "    def process_payment(self, amount):\n",
    "        print(f\"Payment of {amount} processed.\")\n",
    "\n",
    "class InventoryManager:\n",
    "    def update_inventory(self, product_id):\n",
    "        print(f\"Invetory for product {product_id} updated.\")\n",
    "\n",
    "\n",
    "class ShippingService:\n",
    "    def arrange_shipping(self, address):\n",
    "        print(f\"Shipping arranged to address {address}\")\n",
    "\n",
    "\n",
    "class CheckoutFacade:\n",
    "    def __init__(self):\n",
    "        self._payment_processor = PaymentProcessor()\n",
    "        self._inventory_manager = InventoryManager()\n",
    "        self._shipping_service = ShippingService()\n",
    "\n",
    "    def checkout(self, product_id, amount, address):\n",
    "        self._payment_processor.process_payment(amount)\n",
    "        self._inventory_manager.update_inventory(product_id)\n",
    "        self._shipping_service.arrange_shipping(address)\n",
    "\n",
    "# Usage \n",
    "checkout = CheckoutFacade()\n",
    "checkout.checkout(product_id=101, amount=100, address=\"221B Baker Street, London\")"
   ]
  },
  {
   "cell_type": "markdown",
   "id": "aac2e7c6-26f6-4779-a687-ffa53170df53",
   "metadata": {},
   "source": [
    "### Database Management System"
   ]
  },
  {
   "cell_type": "code",
   "execution_count": 12,
   "id": "4b5d5c35-427c-4c20-a863-60fd3d6ab976",
   "metadata": {},
   "outputs": [
    {
     "name": "stdout",
     "output_type": "stream",
     "text": [
      "Database connected.\n",
      "Transaction started.\n",
      "Executing query: SELECT * FROM users\n",
      "Transaction commited.\n",
      "Database closed.\n"
     ]
    }
   ],
   "source": [
    "class DatabaseConnection:\n",
    "    def connect(self):\n",
    "        print(\"Database connected.\")\n",
    "\n",
    "    def close(self):\n",
    "        print(\"Database closed.\")\n",
    "\n",
    "class QueryExector:\n",
    "    def execute_query(self, query):\n",
    "        print(f\"Executing query: {query}\")\n",
    "\n",
    "\n",
    "class TransactionManager:\n",
    "    def begin_transaction(self):\n",
    "        print(\"Transaction started.\")\n",
    "\n",
    "    def commit(self):\n",
    "        print(\"Transaction commited.\")\n",
    "\n",
    "class DatabaseFacade:\n",
    "    def __init__(self):\n",
    "        self._connection = DatabaseConnection()\n",
    "        self._executor = QueryExector()\n",
    "        self._manager = TransactionManager()\n",
    "\n",
    "    def execute(self, query):\n",
    "        self._connection.connect()\n",
    "        self._manager.begin_transaction()\n",
    "        self._executor.execute_query(query)\n",
    "        self._manager.commit()\n",
    "        self._connection.close()\n",
    "\n",
    "#Usage\n",
    "database = DatabaseFacade()\n",
    "database.execute(\"SELECT * FROM users\")\n",
    "        "
   ]
  },
  {
   "cell_type": "markdown",
   "id": "1f4301e3-f1da-4d8b-8110-a7770242894b",
   "metadata": {},
   "source": [
    "## Conclusion"
   ]
  },
  {
   "cell_type": "markdown",
   "id": "39c4cd19-4c07-4238-b543-a6449d941f99",
   "metadata": {},
   "source": [
    "The **Facade Pattern** simplifies complex systems by providing a unified and easy-to-use interface to a set of systems. It abstracts away the complexity, reducing the number of interactionand making "
   ]
  }
 ],
 "metadata": {
  "kernelspec": {
   "display_name": "Python [conda env:base] *",
   "language": "python",
   "name": "conda-base-py"
  },
  "language_info": {
   "codemirror_mode": {
    "name": "ipython",
    "version": 3
   },
   "file_extension": ".py",
   "mimetype": "text/x-python",
   "name": "python",
   "nbconvert_exporter": "python",
   "pygments_lexer": "ipython3",
   "version": "3.10.16"
  }
 },
 "nbformat": 4,
 "nbformat_minor": 5
}
