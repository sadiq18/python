{
 "cells": [
  {
   "cell_type": "markdown",
   "id": "94b49541-d12f-4201-997a-05967763550d",
   "metadata": {},
   "source": [
    "# Decorater Design Pattern"
   ]
  },
  {
   "cell_type": "markdown",
   "id": "84b81159-8d86-48f0-89e7-6ba88fba63f3",
   "metadata": {},
   "source": [
    "The **Decorator Design Pattern** is a structural design pattern that allows you to dynamically add behaviour or responsibilities to an object without modifying its class. It involve creating a set of decorator classes that are used to wrap concrete components, adding extra functionality while preserving orginal object behaviour. This is flexible and reusable way to extend the behaviours of objects.\n",
    "\n",
    "Here are some creative ideas or applying the **Decorater Pattern** across various use cases:"
   ]
  },
  {
   "cell_type": "markdown",
   "id": "a7caeeae-a5b4-405f-9620-9cce71cfba2c",
   "metadata": {},
   "source": [
    "## Authentication Decorater"
   ]
  },
  {
   "cell_type": "code",
   "execution_count": 12,
   "id": "b4250c91-6cb4-4d0f-a677-4271e344ec8f",
   "metadata": {},
   "outputs": [
    {
     "name": "stdout",
     "output_type": "stream",
     "text": [
      "Action Performed\n",
      "Access denied: User is not authenticated.\n"
     ]
    }
   ],
   "source": [
    "class Service:\n",
    "    def perform_action(self):\n",
    "        return \"Action Performed\"\n",
    "\n",
    "class AuthenticationDecorater(Service):\n",
    "    def __init__(self, user_authenticated: bool):\n",
    "        self.user_authenticated = user_authenticated\n",
    "\n",
    "    def perform_action(self):\n",
    "        if not self.user_authenticated:\n",
    "            return \"Access denied: User is not authenticated.\"\n",
    "        return super().perform_action()\n",
    "\n",
    "# Usage\n",
    "auth = AuthenticationDecorater(True)\n",
    "print(auth.perform_action())\n",
    "auth = AuthenticationDecorater(False)\n",
    "print(auth.perform_action())"
   ]
  },
  {
   "cell_type": "markdown",
   "id": "d857d564-8b52-4e2e-80a0-95e517cdab97",
   "metadata": {},
   "source": [
    "## Caching Decorator"
   ]
  },
  {
   "cell_type": "code",
   "execution_count": 23,
   "id": "efbbc560-5236-4c2d-aebe-c2307f3051bd",
   "metadata": {},
   "outputs": [
    {
     "name": "stdout",
     "output_type": "stream",
     "text": [
      "Data fetched : abc\n",
      "Data fetched from cache : abc\n"
     ]
    }
   ],
   "source": [
    "class DateFetcher:\n",
    "    def fetch_data(self, key):\n",
    "        return f\"Data fetched : {key}\"\n",
    "\n",
    "class CacheDateFetcherDecorater(DateFetcher):\n",
    "    def __init__(self):\n",
    "        self._cache = {}\n",
    "\n",
    "    def fetch_data(self, key):\n",
    "        if key in self._cache:\n",
    "            return f\"Data fetched from cache : {key}\"\n",
    "        self._cache[key] = \"data\"\n",
    "        return super().fetch_data(key)\n",
    "\n",
    "# Usage\n",
    "f = CacheDateFetcherDecorater()\n",
    "print(f.fetch_data(\"abc\"))\n",
    "print(f.fetch_data(\"abc\"))"
   ]
  },
  {
   "cell_type": "markdown",
   "id": "de634262-78e1-411a-984d-b9d3ffe9be40",
   "metadata": {},
   "source": [
    "## Retry Decorator"
   ]
  },
  {
   "cell_type": "code",
   "execution_count": 66,
   "id": "e8bb4767-481f-4c1d-921d-19edb671ec71",
   "metadata": {},
   "outputs": [
    {
     "name": "stdout",
     "output_type": "stream",
     "text": [
      "Calling api...\n",
      "Retrying....\n",
      "Calling api...\n",
      "Retrying....\n",
      "Calling api...\n"
     ]
    },
    {
     "data": {
      "text/plain": [
       "'Request Successful !!!'"
      ]
     },
     "execution_count": 66,
     "metadata": {},
     "output_type": "execute_result"
    }
   ],
   "source": [
    "import random\n",
    "import time\n",
    "\n",
    "class NetwrokRequest:\n",
    "    def send_request(self):\n",
    "        if random.choice([True, False]):\n",
    "            return \"Request Successful !!!\"\n",
    "        else:\n",
    "            raise ConnectionError(\"Netwrok Failure.\")\n",
    "\n",
    "class RetryNetwrokRequestDecorator(NetwrokRequest):\n",
    "    def __init__(self, netwrok: NetwrokRequest, retries=3):\n",
    "        self.retries = retries\n",
    "        self.netwrok = netwrok\n",
    "\n",
    "    def send_request(self):\n",
    "        for _ in range(self.retries):\n",
    "            try:\n",
    "                print(\"Calling api...\")\n",
    "                return self.netwrok.send_request()\n",
    "            except ConnectionError:\n",
    "                print(\"Retrying....\")\n",
    "                time.sleep(1)\n",
    "        return \"Request failed after retries\"\n",
    "\n",
    "api = RetryNetwrokRequestDecorator(NetwrokRequest(), 10)\n",
    "api.send_request()"
   ]
  },
  {
   "cell_type": "code",
   "execution_count": null,
   "id": "ea746442-0acc-4872-a6b2-6b424e996e9c",
   "metadata": {},
   "outputs": [],
   "source": []
  }
 ],
 "metadata": {
  "kernelspec": {
   "display_name": "Python [conda env:base] *",
   "language": "python",
   "name": "conda-base-py"
  },
  "language_info": {
   "codemirror_mode": {
    "name": "ipython",
    "version": 3
   },
   "file_extension": ".py",
   "mimetype": "text/x-python",
   "name": "python",
   "nbconvert_exporter": "python",
   "pygments_lexer": "ipython3",
   "version": "3.10.16"
  }
 },
 "nbformat": 4,
 "nbformat_minor": 5
}
